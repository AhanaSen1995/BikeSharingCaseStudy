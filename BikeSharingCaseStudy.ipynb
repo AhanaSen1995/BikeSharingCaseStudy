{
 "cells": [
  {
   "cell_type": "markdown",
   "metadata": {},
   "source": [
    "###  *********************************************************************************\n",
    "# Problem Statement \n",
    "### *********************************************************************************\n",
    "A bike company wants to know:\n",
    "Which variables are significant in predicting the demand for shared bikes.\n",
    "How well those variables describe the bike demands"
   ]
  },
  {
   "cell_type": "code",
   "execution_count": 1,
   "metadata": {},
   "outputs": [],
   "source": [
    "import numpy as np\n",
    "import pandas as pd\n",
    "import matplotlib.pyplot as plt\n",
    "import seaborn as sns\n",
    "from sklearn import linear_model\n",
    "from sklearn.linear_model import LinearRegression\n",
    "from sklearn.model_selection import train_test_split\n",
    "from sklearn.preprocessing import MinMaxScaler \n",
    "import statsmodels.api as sm\n",
    "from sklearn.feature_selection import RFE\n",
    "from statsmodels.stats.outliers_influence import variance_inflation_factor\n",
    "from sklearn.metrics import r2_score\n",
    "\n",
    "#to print all outputs\n",
    "from IPython.core.interactiveshell import InteractiveShell\n",
    "InteractiveShell.ast_node_interactivity = \"all\""
   ]
  },
  {
   "cell_type": "markdown",
   "metadata": {},
   "source": [
    "## Reading the data"
   ]
  },
  {
   "cell_type": "code",
   "execution_count": 2,
   "metadata": {},
   "outputs": [],
   "source": [
    "Data = pd.read_csv(\"day.csv\")"
   ]
  },
  {
   "cell_type": "code",
   "execution_count": 3,
   "metadata": {},
   "outputs": [
    {
     "data": {
      "text/plain": [
       "(730, 16)"
      ]
     },
     "execution_count": 3,
     "metadata": {},
     "output_type": "execute_result"
    },
    {
     "data": {
      "text/html": [
       "<div>\n",
       "<style scoped>\n",
       "    .dataframe tbody tr th:only-of-type {\n",
       "        vertical-align: middle;\n",
       "    }\n",
       "\n",
       "    .dataframe tbody tr th {\n",
       "        vertical-align: top;\n",
       "    }\n",
       "\n",
       "    .dataframe thead th {\n",
       "        text-align: right;\n",
       "    }\n",
       "</style>\n",
       "<table border=\"1\" class=\"dataframe\">\n",
       "  <thead>\n",
       "    <tr style=\"text-align: right;\">\n",
       "      <th></th>\n",
       "      <th>instant</th>\n",
       "      <th>dteday</th>\n",
       "      <th>season</th>\n",
       "      <th>yr</th>\n",
       "      <th>mnth</th>\n",
       "      <th>holiday</th>\n",
       "      <th>weekday</th>\n",
       "      <th>workingday</th>\n",
       "      <th>weathersit</th>\n",
       "      <th>temp</th>\n",
       "      <th>atemp</th>\n",
       "      <th>hum</th>\n",
       "      <th>windspeed</th>\n",
       "      <th>casual</th>\n",
       "      <th>registered</th>\n",
       "      <th>cnt</th>\n",
       "    </tr>\n",
       "  </thead>\n",
       "  <tbody>\n",
       "    <tr>\n",
       "      <th>0</th>\n",
       "      <td>1</td>\n",
       "      <td>01-01-2018</td>\n",
       "      <td>1</td>\n",
       "      <td>0</td>\n",
       "      <td>1</td>\n",
       "      <td>0</td>\n",
       "      <td>6</td>\n",
       "      <td>0</td>\n",
       "      <td>2</td>\n",
       "      <td>14.110847</td>\n",
       "      <td>18.18125</td>\n",
       "      <td>80.5833</td>\n",
       "      <td>10.749882</td>\n",
       "      <td>331</td>\n",
       "      <td>654</td>\n",
       "      <td>985</td>\n",
       "    </tr>\n",
       "    <tr>\n",
       "      <th>1</th>\n",
       "      <td>2</td>\n",
       "      <td>02-01-2018</td>\n",
       "      <td>1</td>\n",
       "      <td>0</td>\n",
       "      <td>1</td>\n",
       "      <td>0</td>\n",
       "      <td>0</td>\n",
       "      <td>0</td>\n",
       "      <td>2</td>\n",
       "      <td>14.902598</td>\n",
       "      <td>17.68695</td>\n",
       "      <td>69.6087</td>\n",
       "      <td>16.652113</td>\n",
       "      <td>131</td>\n",
       "      <td>670</td>\n",
       "      <td>801</td>\n",
       "    </tr>\n",
       "    <tr>\n",
       "      <th>2</th>\n",
       "      <td>3</td>\n",
       "      <td>03-01-2018</td>\n",
       "      <td>1</td>\n",
       "      <td>0</td>\n",
       "      <td>1</td>\n",
       "      <td>0</td>\n",
       "      <td>1</td>\n",
       "      <td>1</td>\n",
       "      <td>1</td>\n",
       "      <td>8.050924</td>\n",
       "      <td>9.47025</td>\n",
       "      <td>43.7273</td>\n",
       "      <td>16.636703</td>\n",
       "      <td>120</td>\n",
       "      <td>1229</td>\n",
       "      <td>1349</td>\n",
       "    </tr>\n",
       "    <tr>\n",
       "      <th>3</th>\n",
       "      <td>4</td>\n",
       "      <td>04-01-2018</td>\n",
       "      <td>1</td>\n",
       "      <td>0</td>\n",
       "      <td>1</td>\n",
       "      <td>0</td>\n",
       "      <td>2</td>\n",
       "      <td>1</td>\n",
       "      <td>1</td>\n",
       "      <td>8.200000</td>\n",
       "      <td>10.60610</td>\n",
       "      <td>59.0435</td>\n",
       "      <td>10.739832</td>\n",
       "      <td>108</td>\n",
       "      <td>1454</td>\n",
       "      <td>1562</td>\n",
       "    </tr>\n",
       "    <tr>\n",
       "      <th>4</th>\n",
       "      <td>5</td>\n",
       "      <td>05-01-2018</td>\n",
       "      <td>1</td>\n",
       "      <td>0</td>\n",
       "      <td>1</td>\n",
       "      <td>0</td>\n",
       "      <td>3</td>\n",
       "      <td>1</td>\n",
       "      <td>1</td>\n",
       "      <td>9.305237</td>\n",
       "      <td>11.46350</td>\n",
       "      <td>43.6957</td>\n",
       "      <td>12.522300</td>\n",
       "      <td>82</td>\n",
       "      <td>1518</td>\n",
       "      <td>1600</td>\n",
       "    </tr>\n",
       "  </tbody>\n",
       "</table>\n",
       "</div>"
      ],
      "text/plain": [
       "   instant      dteday  season  yr  mnth  holiday  weekday  workingday  \\\n",
       "0        1  01-01-2018       1   0     1        0        6           0   \n",
       "1        2  02-01-2018       1   0     1        0        0           0   \n",
       "2        3  03-01-2018       1   0     1        0        1           1   \n",
       "3        4  04-01-2018       1   0     1        0        2           1   \n",
       "4        5  05-01-2018       1   0     1        0        3           1   \n",
       "\n",
       "   weathersit       temp     atemp      hum  windspeed  casual  registered  \\\n",
       "0           2  14.110847  18.18125  80.5833  10.749882     331         654   \n",
       "1           2  14.902598  17.68695  69.6087  16.652113     131         670   \n",
       "2           1   8.050924   9.47025  43.7273  16.636703     120        1229   \n",
       "3           1   8.200000  10.60610  59.0435  10.739832     108        1454   \n",
       "4           1   9.305237  11.46350  43.6957  12.522300      82        1518   \n",
       "\n",
       "    cnt  \n",
       "0   985  \n",
       "1   801  \n",
       "2  1349  \n",
       "3  1562  \n",
       "4  1600  "
      ]
     },
     "execution_count": 3,
     "metadata": {},
     "output_type": "execute_result"
    }
   ],
   "source": [
    "Data.shape\n",
    "Data.head()"
   ]
  },
  {
   "cell_type": "code",
   "execution_count": 4,
   "metadata": {},
   "outputs": [
    {
     "name": "stdout",
     "output_type": "stream",
     "text": [
      "<class 'pandas.core.frame.DataFrame'>\n",
      "RangeIndex: 730 entries, 0 to 729\n",
      "Data columns (total 16 columns):\n",
      " #   Column      Non-Null Count  Dtype  \n",
      "---  ------      --------------  -----  \n",
      " 0   instant     730 non-null    int64  \n",
      " 1   dteday      730 non-null    object \n",
      " 2   season      730 non-null    int64  \n",
      " 3   yr          730 non-null    int64  \n",
      " 4   mnth        730 non-null    int64  \n",
      " 5   holiday     730 non-null    int64  \n",
      " 6   weekday     730 non-null    int64  \n",
      " 7   workingday  730 non-null    int64  \n",
      " 8   weathersit  730 non-null    int64  \n",
      " 9   temp        730 non-null    float64\n",
      " 10  atemp       730 non-null    float64\n",
      " 11  hum         730 non-null    float64\n",
      " 12  windspeed   730 non-null    float64\n",
      " 13  casual      730 non-null    int64  \n",
      " 14  registered  730 non-null    int64  \n",
      " 15  cnt         730 non-null    int64  \n",
      "dtypes: float64(4), int64(11), object(1)\n",
      "memory usage: 91.4+ KB\n"
     ]
    }
   ],
   "source": [
    "Data.info()"
   ]
  },
  {
   "cell_type": "markdown",
   "metadata": {},
   "source": [
    "### Note: \n",
    "- It is observed that the data has no missing values.\n",
    "- a lot of character variables are marked integer because of the way data is collected. In the next step, they will be converted to character variable according to data dictionary mapping. Also, the numeric variables give a sense of order which leads to confusion. Hence remapping according to data dictionary is important"
   ]
  },
  {
   "cell_type": "code",
   "execution_count": 5,
   "metadata": {},
   "outputs": [
    {
     "data": {
      "text/html": [
       "<div>\n",
       "<style scoped>\n",
       "    .dataframe tbody tr th:only-of-type {\n",
       "        vertical-align: middle;\n",
       "    }\n",
       "\n",
       "    .dataframe tbody tr th {\n",
       "        vertical-align: top;\n",
       "    }\n",
       "\n",
       "    .dataframe thead th {\n",
       "        text-align: right;\n",
       "    }\n",
       "</style>\n",
       "<table border=\"1\" class=\"dataframe\">\n",
       "  <thead>\n",
       "    <tr style=\"text-align: right;\">\n",
       "      <th></th>\n",
       "      <th>instant</th>\n",
       "      <th>season</th>\n",
       "      <th>yr</th>\n",
       "      <th>mnth</th>\n",
       "      <th>holiday</th>\n",
       "      <th>weekday</th>\n",
       "      <th>workingday</th>\n",
       "      <th>weathersit</th>\n",
       "      <th>temp</th>\n",
       "      <th>atemp</th>\n",
       "      <th>hum</th>\n",
       "      <th>windspeed</th>\n",
       "      <th>casual</th>\n",
       "      <th>registered</th>\n",
       "      <th>cnt</th>\n",
       "    </tr>\n",
       "  </thead>\n",
       "  <tbody>\n",
       "    <tr>\n",
       "      <th>count</th>\n",
       "      <td>730.000000</td>\n",
       "      <td>730.000000</td>\n",
       "      <td>730.000000</td>\n",
       "      <td>730.000000</td>\n",
       "      <td>730.000000</td>\n",
       "      <td>730.000000</td>\n",
       "      <td>730.000000</td>\n",
       "      <td>730.000000</td>\n",
       "      <td>730.000000</td>\n",
       "      <td>730.000000</td>\n",
       "      <td>730.000000</td>\n",
       "      <td>730.000000</td>\n",
       "      <td>730.000000</td>\n",
       "      <td>730.000000</td>\n",
       "      <td>730.000000</td>\n",
       "    </tr>\n",
       "    <tr>\n",
       "      <th>mean</th>\n",
       "      <td>365.500000</td>\n",
       "      <td>2.498630</td>\n",
       "      <td>0.500000</td>\n",
       "      <td>6.526027</td>\n",
       "      <td>0.028767</td>\n",
       "      <td>2.997260</td>\n",
       "      <td>0.683562</td>\n",
       "      <td>1.394521</td>\n",
       "      <td>20.319259</td>\n",
       "      <td>23.726322</td>\n",
       "      <td>62.765175</td>\n",
       "      <td>12.763620</td>\n",
       "      <td>849.249315</td>\n",
       "      <td>3658.757534</td>\n",
       "      <td>4508.006849</td>\n",
       "    </tr>\n",
       "    <tr>\n",
       "      <th>std</th>\n",
       "      <td>210.877136</td>\n",
       "      <td>1.110184</td>\n",
       "      <td>0.500343</td>\n",
       "      <td>3.450215</td>\n",
       "      <td>0.167266</td>\n",
       "      <td>2.006161</td>\n",
       "      <td>0.465405</td>\n",
       "      <td>0.544807</td>\n",
       "      <td>7.506729</td>\n",
       "      <td>8.150308</td>\n",
       "      <td>14.237589</td>\n",
       "      <td>5.195841</td>\n",
       "      <td>686.479875</td>\n",
       "      <td>1559.758728</td>\n",
       "      <td>1936.011647</td>\n",
       "    </tr>\n",
       "    <tr>\n",
       "      <th>min</th>\n",
       "      <td>1.000000</td>\n",
       "      <td>1.000000</td>\n",
       "      <td>0.000000</td>\n",
       "      <td>1.000000</td>\n",
       "      <td>0.000000</td>\n",
       "      <td>0.000000</td>\n",
       "      <td>0.000000</td>\n",
       "      <td>1.000000</td>\n",
       "      <td>2.424346</td>\n",
       "      <td>3.953480</td>\n",
       "      <td>0.000000</td>\n",
       "      <td>1.500244</td>\n",
       "      <td>2.000000</td>\n",
       "      <td>20.000000</td>\n",
       "      <td>22.000000</td>\n",
       "    </tr>\n",
       "    <tr>\n",
       "      <th>25%</th>\n",
       "      <td>183.250000</td>\n",
       "      <td>2.000000</td>\n",
       "      <td>0.000000</td>\n",
       "      <td>4.000000</td>\n",
       "      <td>0.000000</td>\n",
       "      <td>1.000000</td>\n",
       "      <td>0.000000</td>\n",
       "      <td>1.000000</td>\n",
       "      <td>13.811885</td>\n",
       "      <td>16.889713</td>\n",
       "      <td>52.000000</td>\n",
       "      <td>9.041650</td>\n",
       "      <td>316.250000</td>\n",
       "      <td>2502.250000</td>\n",
       "      <td>3169.750000</td>\n",
       "    </tr>\n",
       "    <tr>\n",
       "      <th>50%</th>\n",
       "      <td>365.500000</td>\n",
       "      <td>3.000000</td>\n",
       "      <td>0.500000</td>\n",
       "      <td>7.000000</td>\n",
       "      <td>0.000000</td>\n",
       "      <td>3.000000</td>\n",
       "      <td>1.000000</td>\n",
       "      <td>1.000000</td>\n",
       "      <td>20.465826</td>\n",
       "      <td>24.368225</td>\n",
       "      <td>62.625000</td>\n",
       "      <td>12.125325</td>\n",
       "      <td>717.000000</td>\n",
       "      <td>3664.500000</td>\n",
       "      <td>4548.500000</td>\n",
       "    </tr>\n",
       "    <tr>\n",
       "      <th>75%</th>\n",
       "      <td>547.750000</td>\n",
       "      <td>3.000000</td>\n",
       "      <td>1.000000</td>\n",
       "      <td>10.000000</td>\n",
       "      <td>0.000000</td>\n",
       "      <td>5.000000</td>\n",
       "      <td>1.000000</td>\n",
       "      <td>2.000000</td>\n",
       "      <td>26.880615</td>\n",
       "      <td>30.445775</td>\n",
       "      <td>72.989575</td>\n",
       "      <td>15.625589</td>\n",
       "      <td>1096.500000</td>\n",
       "      <td>4783.250000</td>\n",
       "      <td>5966.000000</td>\n",
       "    </tr>\n",
       "    <tr>\n",
       "      <th>max</th>\n",
       "      <td>730.000000</td>\n",
       "      <td>4.000000</td>\n",
       "      <td>1.000000</td>\n",
       "      <td>12.000000</td>\n",
       "      <td>1.000000</td>\n",
       "      <td>6.000000</td>\n",
       "      <td>1.000000</td>\n",
       "      <td>3.000000</td>\n",
       "      <td>35.328347</td>\n",
       "      <td>42.044800</td>\n",
       "      <td>97.250000</td>\n",
       "      <td>34.000021</td>\n",
       "      <td>3410.000000</td>\n",
       "      <td>6946.000000</td>\n",
       "      <td>8714.000000</td>\n",
       "    </tr>\n",
       "  </tbody>\n",
       "</table>\n",
       "</div>"
      ],
      "text/plain": [
       "          instant      season          yr        mnth     holiday     weekday  \\\n",
       "count  730.000000  730.000000  730.000000  730.000000  730.000000  730.000000   \n",
       "mean   365.500000    2.498630    0.500000    6.526027    0.028767    2.997260   \n",
       "std    210.877136    1.110184    0.500343    3.450215    0.167266    2.006161   \n",
       "min      1.000000    1.000000    0.000000    1.000000    0.000000    0.000000   \n",
       "25%    183.250000    2.000000    0.000000    4.000000    0.000000    1.000000   \n",
       "50%    365.500000    3.000000    0.500000    7.000000    0.000000    3.000000   \n",
       "75%    547.750000    3.000000    1.000000   10.000000    0.000000    5.000000   \n",
       "max    730.000000    4.000000    1.000000   12.000000    1.000000    6.000000   \n",
       "\n",
       "       workingday  weathersit        temp       atemp         hum   windspeed  \\\n",
       "count  730.000000  730.000000  730.000000  730.000000  730.000000  730.000000   \n",
       "mean     0.683562    1.394521   20.319259   23.726322   62.765175   12.763620   \n",
       "std      0.465405    0.544807    7.506729    8.150308   14.237589    5.195841   \n",
       "min      0.000000    1.000000    2.424346    3.953480    0.000000    1.500244   \n",
       "25%      0.000000    1.000000   13.811885   16.889713   52.000000    9.041650   \n",
       "50%      1.000000    1.000000   20.465826   24.368225   62.625000   12.125325   \n",
       "75%      1.000000    2.000000   26.880615   30.445775   72.989575   15.625589   \n",
       "max      1.000000    3.000000   35.328347   42.044800   97.250000   34.000021   \n",
       "\n",
       "            casual   registered          cnt  \n",
       "count   730.000000   730.000000   730.000000  \n",
       "mean    849.249315  3658.757534  4508.006849  \n",
       "std     686.479875  1559.758728  1936.011647  \n",
       "min       2.000000    20.000000    22.000000  \n",
       "25%     316.250000  2502.250000  3169.750000  \n",
       "50%     717.000000  3664.500000  4548.500000  \n",
       "75%    1096.500000  4783.250000  5966.000000  \n",
       "max    3410.000000  6946.000000  8714.000000  "
      ]
     },
     "execution_count": 5,
     "metadata": {},
     "output_type": "execute_result"
    }
   ],
   "source": [
    "Data.describe()"
   ]
  },
  {
   "cell_type": "markdown",
   "metadata": {},
   "source": [
    "## Data quality and data manipulation"
   ]
  },
  {
   "cell_type": "markdown",
   "metadata": {},
   "source": [
    "Note:\n",
    "- \"instant\" is the index column and \"dteday\" is the date variable. Hence it has no value in model building. so dropping it\n",
    "- \"casual\" and \"registered\" add up to the target variable \"cnt\". Hence will not help in prdicting the target variable. So dropping them as well."
   ]
  },
  {
   "cell_type": "code",
   "execution_count": 6,
   "metadata": {},
   "outputs": [],
   "source": [
    "Data=Data.drop(['instant','dteday','casual','registered'], axis=1)"
   ]
  },
  {
   "cell_type": "code",
   "execution_count": 7,
   "metadata": {},
   "outputs": [
    {
     "data": {
      "text/plain": [
       "(730, 12)"
      ]
     },
     "execution_count": 7,
     "metadata": {},
     "output_type": "execute_result"
    }
   ],
   "source": [
    "Data.shape"
   ]
  },
  {
   "cell_type": "markdown",
   "metadata": {},
   "source": [
    "List of variables where remapping according to data dictionary is required:\n",
    "- season\n",
    "- yr\n",
    "- mnth\n",
    "- holiday\n",
    "- weekday\n",
    "- workingday\n",
    "- weathersit"
   ]
  },
  {
   "cell_type": "code",
   "execution_count": 8,
   "metadata": {},
   "outputs": [
    {
     "data": {
      "text/plain": [
       "3    188\n",
       "2    184\n",
       "1    180\n",
       "4    178\n",
       "Name: season, dtype: int64"
      ]
     },
     "execution_count": 8,
     "metadata": {},
     "output_type": "execute_result"
    },
    {
     "data": {
      "text/plain": [
       "1    365\n",
       "0    365\n",
       "Name: yr, dtype: int64"
      ]
     },
     "execution_count": 8,
     "metadata": {},
     "output_type": "execute_result"
    },
    {
     "data": {
      "text/plain": [
       "12    62\n",
       "10    62\n",
       "8     62\n",
       "7     62\n",
       "5     62\n",
       "3     62\n",
       "1     62\n",
       "11    60\n",
       "9     60\n",
       "6     60\n",
       "4     60\n",
       "2     56\n",
       "Name: mnth, dtype: int64"
      ]
     },
     "execution_count": 8,
     "metadata": {},
     "output_type": "execute_result"
    },
    {
     "data": {
      "text/plain": [
       "0    709\n",
       "1     21\n",
       "Name: holiday, dtype: int64"
      ]
     },
     "execution_count": 8,
     "metadata": {},
     "output_type": "execute_result"
    },
    {
     "data": {
      "text/plain": [
       "6    105\n",
       "1    105\n",
       "0    105\n",
       "5    104\n",
       "4    104\n",
       "2    104\n",
       "3    103\n",
       "Name: weekday, dtype: int64"
      ]
     },
     "execution_count": 8,
     "metadata": {},
     "output_type": "execute_result"
    },
    {
     "data": {
      "text/plain": [
       "1    499\n",
       "0    231\n",
       "Name: workingday, dtype: int64"
      ]
     },
     "execution_count": 8,
     "metadata": {},
     "output_type": "execute_result"
    },
    {
     "data": {
      "text/plain": [
       "1    463\n",
       "2    246\n",
       "3     21\n",
       "Name: weathersit, dtype: int64"
      ]
     },
     "execution_count": 8,
     "metadata": {},
     "output_type": "execute_result"
    }
   ],
   "source": [
    "Data['season'].value_counts()\n",
    "Data['yr'].value_counts()\n",
    "Data['mnth'].value_counts()\n",
    "Data['holiday'].value_counts()\n",
    "Data['weekday'].value_counts()\n",
    "Data['workingday'].value_counts()\n",
    "Data['weathersit'].value_counts()"
   ]
  },
  {
   "cell_type": "markdown",
   "metadata": {},
   "source": [
    "## Note:\n",
    "- it is observed that among the above variable list, 3 variables i.e ['yr','holiday','workingday'] have only 2 levels which is \"yes\" or \"no\". Hence not remapping them and treating them as dummy variable.\n",
    "-- yr : year (0: 2018, 1:2019)\n",
    "-- holiday : wether day is a holiday or not (0: Not holiday, 1: Yes holiday)\n",
    "-- workingday : if day is neither weekend nor holiday is 1, otherwise is 0."
   ]
  },
  {
   "cell_type": "markdown",
   "metadata": {},
   "source": [
    "##### Mapping the rest of the variables according to data dictionary"
   ]
  },
  {
   "cell_type": "code",
   "execution_count": 9,
   "metadata": {},
   "outputs": [
    {
     "data": {
      "text/plain": [
       "fall      188\n",
       "summer    184\n",
       "spring    180\n",
       "winter    178\n",
       "Name: season, dtype: int64"
      ]
     },
     "execution_count": 9,
     "metadata": {},
     "output_type": "execute_result"
    }
   ],
   "source": [
    "Data[['season']]=Data[['season']].apply(lambda x: x.map({1:'spring',2:'summer',3:'fall',4:'winter'}))\n",
    "Data['season'].value_counts()"
   ]
  },
  {
   "cell_type": "code",
   "execution_count": 10,
   "metadata": {},
   "outputs": [
    {
     "data": {
      "text/plain": [
       "May          62\n",
       "March        62\n",
       "August       62\n",
       "July         62\n",
       "October      62\n",
       "December     62\n",
       "January      62\n",
       "June         60\n",
       "September    60\n",
       "April        60\n",
       "November     60\n",
       "February     56\n",
       "Name: mnth, dtype: int64"
      ]
     },
     "execution_count": 10,
     "metadata": {},
     "output_type": "execute_result"
    }
   ],
   "source": [
    "Data[['mnth']]=Data[['mnth']].apply(lambda x: x.map({1: 'January', 2: 'February', 3: 'March', 4: 'April', 5: 'May', 6: 'June', 7: 'July',8: 'August',9: 'September',10: 'October',11: 'November',12: 'December'}))\n",
    "Data['mnth'].value_counts()"
   ]
  },
  {
   "cell_type": "code",
   "execution_count": 11,
   "metadata": {},
   "outputs": [
    {
     "data": {
      "text/plain": [
       "Mon      105\n",
       "Wed      105\n",
       "Tues     105\n",
       "Sun      104\n",
       "Thurs    104\n",
       "Sat      104\n",
       "Fri      103\n",
       "Name: weekday, dtype: int64"
      ]
     },
     "execution_count": 11,
     "metadata": {},
     "output_type": "execute_result"
    }
   ],
   "source": [
    "Data[['weekday']]=Data[['weekday']].apply(lambda x: x.map({1: 'Wed', 2: 'Thurs', 3: 'Fri', 4: 'Sat', 5: 'Sun', 6: 'Mon', 0: 'Tues'}))\n",
    "Data['weekday'].value_counts()"
   ]
  },
  {
   "cell_type": "markdown",
   "metadata": {},
   "source": [
    "##### Note:\n",
    "- weathersit has 4 levels as mentioned below:\n",
    "        - 1: Clear, Few clouds, Partly cloudy, Partly cloudy\n",
    "        - 2: Mist + Cloudy, Mist + Broken clouds, Mist + Few clouds, Mist\n",
    "        - 3: Light Snow, Light Rain + Thunderstorm + Scattered clouds, Light Rain + Scattered clouds\n",
    "        - 4: Heavy Rain + Ice Pallets + Thunderstorm + Mist, Snow + Fog\n",
    "as the mapping is quite long, below short mapping is used:\n",
    "        - 1: clear_to_cloudy\n",
    "        - 2: cloudy_to_misty\n",
    "        - 3: misty_to_light_rain_snow\n",
    "        - 4: light_to_hevay_rain_snow"
   ]
  },
  {
   "cell_type": "code",
   "execution_count": 12,
   "metadata": {},
   "outputs": [
    {
     "data": {
      "text/plain": [
       "clear_to_cloudy             463\n",
       "cloudy_to_misty             246\n",
       "misty_to_light_rain_snow     21\n",
       "Name: weathersit, dtype: int64"
      ]
     },
     "execution_count": 12,
     "metadata": {},
     "output_type": "execute_result"
    }
   ],
   "source": [
    "Data[['weathersit']]=Data[['weathersit']].apply(lambda x: x.map({1: 'clear_to_cloudy', 2: 'cloudy_to_misty', 3: 'misty_to_light_rain_snow', 4: 'light_to_hevay_rain_snow'}))\n",
    "Data['weathersit'].value_counts()"
   ]
  },
  {
   "cell_type": "markdown",
   "metadata": {},
   "source": [
    "### Note:\n",
    " - data is clean and all the required changes are done. From describe function, it is observed that there is no missing values as well and no outliers. hence can proceed with modelling"
   ]
  },
  {
   "cell_type": "markdown",
   "metadata": {},
   "source": [
    "## Before proceeding with Model, visualization of data and data understanding"
   ]
  },
  {
   "cell_type": "code",
   "execution_count": 13,
   "metadata": {},
   "outputs": [
    {
     "data": {
      "text/plain": [
       "season         object\n",
       "yr              int64\n",
       "mnth           object\n",
       "holiday         int64\n",
       "weekday        object\n",
       "workingday      int64\n",
       "weathersit     object\n",
       "temp          float64\n",
       "atemp         float64\n",
       "hum           float64\n",
       "windspeed     float64\n",
       "cnt             int64\n",
       "dtype: object"
      ]
     },
     "execution_count": 13,
     "metadata": {},
     "output_type": "execute_result"
    }
   ],
   "source": [
    "Data.dtypes"
   ]
  },
  {
   "cell_type": "code",
   "execution_count": 14,
   "metadata": {},
   "outputs": [
    {
     "data": {
      "text/plain": [
       "<AxesSubplot:xlabel='temp', ylabel='Density'>"
      ]
     },
     "execution_count": 14,
     "metadata": {},
     "output_type": "execute_result"
    },
    {
     "data": {
      "image/png": "[encoded data removed]",
      "text/plain": [
       "<Figure size 432x288 with 1 Axes>"
      ]
     },
     "metadata": {
      "needs_background": "light"
     },
     "output_type": "display_data"
    },
    {
     "data": {
      "text/plain": [
       "<AxesSubplot:xlabel='atemp', ylabel='Density'>"
      ]
     },
     "execution_count": 14,
     "metadata": {},
     "output_type": "execute_result"
    },
    {
     "data": {
      "image/png": "[encoded data removed]",
      "text/plain": [
       "<Figure size 432x288 with 1 Axes>"
      ]
     },
     "metadata": {
      "needs_background": "light"
     },
     "output_type": "display_data"
    },
    {
     "data": {
      "text/plain": [
       "<AxesSubplot:xlabel='hum', ylabel='Density'>"
      ]
     },
     "execution_count": 14,
     "metadata": {},
     "output_type": "execute_result"
    },
    {
     "data": {
      "image/png": "[encoded data removed]",
      "text/plain": [
       "<Figure size 432x288 with 1 Axes>"
      ]
     },
     "metadata": {
      "needs_background": "light"
     },
     "output_type": "display_data"
    },
    {
     "data": {
      "text/plain": [
       "<AxesSubplot:xlabel='windspeed', ylabel='Density'>"
      ]
     },
     "execution_count": 14,
     "metadata": {},
     "output_type": "execute_result"
    },
    {
     "data": {
      "image/png": "[encoded data removed]",
      "text/plain": [
       "<Figure size 432x288 with 1 Axes>"
      ]
     },
     "metadata": {
      "needs_background": "light"
     },
     "output_type": "display_data"
    },
    {
     "data": {
      "text/plain": [
       "<AxesSubplot:xlabel='cnt', ylabel='Density'>"
      ]
     },
     "execution_count": 14,
     "metadata": {},
     "output_type": "execute_result"
    },
    {
     "data": {
      "image/png": "[encoded data removed]",
      "text/plain": [
       "<Figure size 432x288 with 1 Axes>"
      ]
     },
     "metadata": {
      "needs_background": "light"
     },
     "output_type": "display_data"
    }
   ],
   "source": [
    "import warnings\n",
    "warnings.filterwarnings('ignore')\n",
    "list_var=['temp','atemp','hum','windspeed','cnt']\n",
    "for i in list_var:\n",
    "    sns.distplot(Data[i])\n",
    "    plt.show()\n"
   ]
  },
  {
   "cell_type": "markdown",
   "metadata": {},
   "source": [
    "### Note:\n",
    "- from the above plots of character variables, it is observed that all the variables approximately follows normal distribution"
   ]
  },
  {
   "cell_type": "markdown",
   "metadata": {},
   "source": [
    "##### Now plotting bloxplot for the categorical variable and observing the relationship with the dependent variable"
   ]
  },
  {
   "cell_type": "code",
   "execution_count": 15,
   "metadata": {},
   "outputs": [
    {
     "data": {
      "text/plain": [
       "<Figure size 1800x1800 with 0 Axes>"
      ]
     },
     "execution_count": 15,
     "metadata": {},
     "output_type": "execute_result"
    },
    {
     "data": {
      "text/plain": [
       "<AxesSubplot:>"
      ]
     },
     "execution_count": 15,
     "metadata": {},
     "output_type": "execute_result"
    },
    {
     "data": {
      "text/plain": [
       "<AxesSubplot:xlabel='season', ylabel='cnt'>"
      ]
     },
     "execution_count": 15,
     "metadata": {},
     "output_type": "execute_result"
    },
    {
     "data": {
      "text/plain": [
       "<AxesSubplot:>"
      ]
     },
     "execution_count": 15,
     "metadata": {},
     "output_type": "execute_result"
    },
    {
     "data": {
      "text/plain": [
       "<AxesSubplot:xlabel='holiday', ylabel='cnt'>"
      ]
     },
     "execution_count": 15,
     "metadata": {},
     "output_type": "execute_result"
    },
    {
     "data": {
      "text/plain": [
       "<AxesSubplot:>"
      ]
     },
     "execution_count": 15,
     "metadata": {},
     "output_type": "execute_result"
    },
    {
     "data": {
      "text/plain": [
       "<AxesSubplot:xlabel='workingday', ylabel='cnt'>"
      ]
     },
     "execution_count": 15,
     "metadata": {},
     "output_type": "execute_result"
    },
    {
     "data": {
      "text/plain": [
       "<AxesSubplot:>"
      ]
     },
     "execution_count": 15,
     "metadata": {},
     "output_type": "execute_result"
    },
    {
     "data": {
      "text/plain": [
       "<AxesSubplot:xlabel='weathersit', ylabel='cnt'>"
      ]
     },
     "execution_count": 15,
     "metadata": {},
     "output_type": "execute_result"
    },
    {
     "data": {
      "text/plain": [
       "<AxesSubplot:>"
      ]
     },
     "execution_count": 15,
     "metadata": {},
     "output_type": "execute_result"
    },
    {
     "data": {
      "text/plain": [
       "<AxesSubplot:xlabel='mnth', ylabel='cnt'>"
      ]
     },
     "execution_count": 15,
     "metadata": {},
     "output_type": "execute_result"
    },
    {
     "data": {
      "text/plain": [
       "<AxesSubplot:>"
      ]
     },
     "execution_count": 15,
     "metadata": {},
     "output_type": "execute_result"
    },
    {
     "data": {
      "text/plain": [
       "<AxesSubplot:xlabel='weekday', ylabel='cnt'>"
      ]
     },
     "execution_count": 15,
     "metadata": {},
     "output_type": "execute_result"
    },
    {
     "data": {
      "text/plain": [
       "<AxesSubplot:>"
      ]
     },
     "execution_count": 15,
     "metadata": {},
     "output_type": "execute_result"
    },
    {
     "data": {
      "text/plain": [
       "<AxesSubplot:xlabel='yr', ylabel='cnt'>"
      ]
     },
     "execution_count": 15,
     "metadata": {},
     "output_type": "execute_result"
    },
    {
     "data": {
      "image/png": "[encoded data removed]",
      "text/plain": [
       "<Figure size 1800x1800 with 7 Axes>"
      ]
     },
     "metadata": {
      "needs_background": "light"
     },
     "output_type": "display_data"
    }
   ],
   "source": [
    "plt.figure(figsize=(25, 25))  \n",
    "plt.subplot(3,3,1)\n",
    "sns.boxplot(x = 'season',y ='cnt', data =Data)\n",
    "plt.subplot(3,3,2)\n",
    "sns.boxplot(x = 'holiday',y ='cnt', data =Data)\n",
    "plt.subplot(3,3,3)\n",
    "sns.boxplot(x = 'workingday',y ='cnt', data =Data)\n",
    "plt.subplot(3,3,4)\n",
    "sns.boxplot(x = 'weathersit',y ='cnt', data =Data)\n",
    "plt.subplot(3,3,5)\n",
    "sns.boxplot(x = 'mnth',y ='cnt', data =Data)\n",
    "plt.subplot(3,3,6)\n",
    "sns.boxplot(x = 'weekday',y ='cnt', data =Data)\n",
    "plt.subplot(3,3,7)\n",
    "sns.boxplot(x = 'yr',y ='cnt', data =Data)\n",
    "plt.show()"
   ]
  },
  {
   "cell_type": "markdown",
   "metadata": {},
   "source": [
    "### Notes:\n",
    "- 2019 has more bike rentals than 2018\n",
    "- clear to cloudy weather situation has more bike rentals\n",
    "##### this kind of inferences can be drawn from above plots"
   ]
  },
  {
   "cell_type": "markdown",
   "metadata": {},
   "source": [
    "### Visualizing numeric variables and observing multicollinearity among independent variables along with collinearity among dependent and independent variables"
   ]
  },
  {
   "cell_type": "code",
   "execution_count": 16,
   "metadata": {},
   "outputs": [
    {
     "data": {
      "text/plain": [
       "<seaborn.axisgrid.PairGrid at 0x7fe8fd0f74d0>"
      ]
     },
     "execution_count": 16,
     "metadata": {},
     "output_type": "execute_result"
    },
    {
     "data": {
      "image/png": "[encoded data removed]",
      "text/plain": [
       "<Figure size 900x900 with 30 Axes>"
      ]
     },
     "metadata": {
      "needs_background": "light"
     },
     "output_type": "display_data"
    }
   ],
   "source": [
    "list_var=['cnt','temp','atemp','hum','windspeed']\n",
    "sns.pairplot(Data[list_var])\n",
    "plt.show()"
   ]
  },
  {
   "cell_type": "code",
   "execution_count": 17,
   "metadata": {},
   "outputs": [
    {
     "data": {
      "text/html": [
       "<div>\n",
       "<style scoped>\n",
       "    .dataframe tbody tr th:only-of-type {\n",
       "        vertical-align: middle;\n",
       "    }\n",
       "\n",
       "    .dataframe tbody tr th {\n",
       "        vertical-align: top;\n",
       "    }\n",
       "\n",
       "    .dataframe thead th {\n",
       "        text-align: right;\n",
       "    }\n",
       "</style>\n",
       "<table border=\"1\" class=\"dataframe\">\n",
       "  <thead>\n",
       "    <tr style=\"text-align: right;\">\n",
       "      <th></th>\n",
       "      <th>yr</th>\n",
       "      <th>holiday</th>\n",
       "      <th>workingday</th>\n",
       "      <th>temp</th>\n",
       "      <th>atemp</th>\n",
       "      <th>hum</th>\n",
       "      <th>windspeed</th>\n",
       "      <th>cnt</th>\n",
       "    </tr>\n",
       "  </thead>\n",
       "  <tbody>\n",
       "    <tr>\n",
       "      <th>yr</th>\n",
       "      <td>1.000000</td>\n",
       "      <td>0.008195</td>\n",
       "      <td>-0.002945</td>\n",
       "      <td>0.048789</td>\n",
       "      <td>0.047215</td>\n",
       "      <td>-0.112547</td>\n",
       "      <td>-0.011624</td>\n",
       "      <td>0.569728</td>\n",
       "    </tr>\n",
       "    <tr>\n",
       "      <th>holiday</th>\n",
       "      <td>0.008195</td>\n",
       "      <td>1.000000</td>\n",
       "      <td>-0.252948</td>\n",
       "      <td>-0.028764</td>\n",
       "      <td>-0.032703</td>\n",
       "      <td>-0.015662</td>\n",
       "      <td>0.006257</td>\n",
       "      <td>-0.068764</td>\n",
       "    </tr>\n",
       "    <tr>\n",
       "      <th>workingday</th>\n",
       "      <td>-0.002945</td>\n",
       "      <td>-0.252948</td>\n",
       "      <td>1.000000</td>\n",
       "      <td>0.053470</td>\n",
       "      <td>0.052940</td>\n",
       "      <td>0.023202</td>\n",
       "      <td>-0.018666</td>\n",
       "      <td>0.062542</td>\n",
       "    </tr>\n",
       "    <tr>\n",
       "      <th>temp</th>\n",
       "      <td>0.048789</td>\n",
       "      <td>-0.028764</td>\n",
       "      <td>0.053470</td>\n",
       "      <td>1.000000</td>\n",
       "      <td>0.991696</td>\n",
       "      <td>0.128565</td>\n",
       "      <td>-0.158186</td>\n",
       "      <td>0.627044</td>\n",
       "    </tr>\n",
       "    <tr>\n",
       "      <th>atemp</th>\n",
       "      <td>0.047215</td>\n",
       "      <td>-0.032703</td>\n",
       "      <td>0.052940</td>\n",
       "      <td>0.991696</td>\n",
       "      <td>1.000000</td>\n",
       "      <td>0.141512</td>\n",
       "      <td>-0.183876</td>\n",
       "      <td>0.630685</td>\n",
       "    </tr>\n",
       "    <tr>\n",
       "      <th>hum</th>\n",
       "      <td>-0.112547</td>\n",
       "      <td>-0.015662</td>\n",
       "      <td>0.023202</td>\n",
       "      <td>0.128565</td>\n",
       "      <td>0.141512</td>\n",
       "      <td>1.000000</td>\n",
       "      <td>-0.248506</td>\n",
       "      <td>-0.098543</td>\n",
       "    </tr>\n",
       "    <tr>\n",
       "      <th>windspeed</th>\n",
       "      <td>-0.011624</td>\n",
       "      <td>0.006257</td>\n",
       "      <td>-0.018666</td>\n",
       "      <td>-0.158186</td>\n",
       "      <td>-0.183876</td>\n",
       "      <td>-0.248506</td>\n",
       "      <td>1.000000</td>\n",
       "      <td>-0.235132</td>\n",
       "    </tr>\n",
       "    <tr>\n",
       "      <th>cnt</th>\n",
       "      <td>0.569728</td>\n",
       "      <td>-0.068764</td>\n",
       "      <td>0.062542</td>\n",
       "      <td>0.627044</td>\n",
       "      <td>0.630685</td>\n",
       "      <td>-0.098543</td>\n",
       "      <td>-0.235132</td>\n",
       "      <td>1.000000</td>\n",
       "    </tr>\n",
       "  </tbody>\n",
       "</table>\n",
       "</div>"
      ],
      "text/plain": [
       "                  yr   holiday  workingday      temp     atemp       hum  \\\n",
       "yr          1.000000  0.008195   -0.002945  0.048789  0.047215 -0.112547   \n",
       "holiday     0.008195  1.000000   -0.252948 -0.028764 -0.032703 -0.015662   \n",
       "workingday -0.002945 -0.252948    1.000000  0.053470  0.052940  0.023202   \n",
       "temp        0.048789 -0.028764    0.053470  1.000000  0.991696  0.128565   \n",
       "atemp       0.047215 -0.032703    0.052940  0.991696  1.000000  0.141512   \n",
       "hum        -0.112547 -0.015662    0.023202  0.128565  0.141512  1.000000   \n",
       "windspeed  -0.011624  0.006257   -0.018666 -0.158186 -0.183876 -0.248506   \n",
       "cnt         0.569728 -0.068764    0.062542  0.627044  0.630685 -0.098543   \n",
       "\n",
       "            windspeed       cnt  \n",
       "yr          -0.011624  0.569728  \n",
       "holiday      0.006257 -0.068764  \n",
       "workingday  -0.018666  0.062542  \n",
       "temp        -0.158186  0.627044  \n",
       "atemp       -0.183876  0.630685  \n",
       "hum         -0.248506 -0.098543  \n",
       "windspeed    1.000000 -0.235132  \n",
       "cnt         -0.235132  1.000000  "
      ]
     },
     "execution_count": 17,
     "metadata": {},
     "output_type": "execute_result"
    }
   ],
   "source": [
    "Data.corr()"
   ]
  },
  {
   "cell_type": "code",
   "execution_count": 18,
   "metadata": {},
   "outputs": [
    {
     "data": {
      "text/plain": [
       "<Figure size 1440x1440 with 0 Axes>"
      ]
     },
     "execution_count": 18,
     "metadata": {},
     "output_type": "execute_result"
    },
    {
     "data": {
      "text/plain": [
       "[Text(0.5, 0, 'yr'),\n",
       " Text(1.5, 0, 'holiday'),\n",
       " Text(2.5, 0, 'workingday'),\n",
       " Text(3.5, 0, 'temp'),\n",
       " Text(4.5, 0, 'atemp'),\n",
       " Text(5.5, 0, 'hum'),\n",
       " Text(6.5, 0, 'windspeed'),\n",
       " Text(7.5, 0, 'cnt')]"
      ]
     },
     "execution_count": 18,
     "metadata": {},
     "output_type": "execute_result"
    },
    {
     "data": {
      "image/png": "[encoded data removed]",
      "text/plain": [
       "<Figure size 1440x1440 with 2 Axes>"
      ]
     },
     "metadata": {
      "needs_background": "light"
     },
     "output_type": "display_data"
    }
   ],
   "source": [
    "plt.figure(figsize=(20, 20))\n",
    "corr=Data.corr()\n",
    "ax = sns.heatmap(\n",
    "    corr, \n",
    "    vmin=-1, vmax=1, center=0,\n",
    "    cmap=sns.diverging_palette(20, 220, n=200),\n",
    "    square=True,\n",
    "    annot=True)\n",
    "\n",
    "ax.set_xticklabels(\n",
    "    ax.get_xticklabels(),\n",
    "    rotation=45,\n",
    "    horizontalalignment='right')\n",
    "plt.show()"
   ]
  },
  {
   "cell_type": "markdown",
   "metadata": {},
   "source": [
    "##### removing atemp variable as it is highly correlated with temp variable"
   ]
  },
  {
   "cell_type": "code",
   "execution_count": 19,
   "metadata": {},
   "outputs": [
    {
     "data": {
      "text/plain": [
       "(730, 11)"
      ]
     },
     "execution_count": 19,
     "metadata": {},
     "output_type": "execute_result"
    }
   ],
   "source": [
    "Data=Data.drop('atemp',axis=1) \n",
    "Data.shape"
   ]
  },
  {
   "cell_type": "markdown",
   "metadata": {},
   "source": [
    "# Model Development"
   ]
  },
  {
   "cell_type": "markdown",
   "metadata": {},
   "source": [
    "#### Below steps are followed in model development:\n",
    "- STEP 1:  data preperation is done by creating dummy variables and formatting rest of the variables as per requirement\n",
    "- STEP 2:  dividing the data into training set and test set\n",
    "- STEP 3:  Scaling the numeric vriables for better interpretation though prediction will not get affected\n",
    "- STEP 4:  Building model with all the features using OLS technique\n",
    "- STEP 5:  Checking VIF and dropping features with high multi collinearity\n",
    "- STEP 6:  To arrive at final model and dropping features, used RFE i.e recursive feature elimination\n",
    "- STEP 7:  Checked VIF again and dropped features with high VIF \n",
    "- STEP 8:  Rerun the model and then arrived at final model by evaluating basis adjusted R2 and F statistic\n",
    "- STEP 9:  Residual analysis to see the distribution of error term and observe homoskedasticity as well. Ensuring assumptions of linear regression model is holding\n",
    "- STEP 10: Deciding and concluding final model and observing its performance in test set as well to finalise."
   ]
  },
  {
   "cell_type": "markdown",
   "metadata": {},
   "source": [
    "### STEP 1: Dummy Creation"
   ]
  },
  {
   "cell_type": "code",
   "execution_count": 20,
   "metadata": {},
   "outputs": [
    {
     "name": "stdout",
     "output_type": "stream",
     "text": [
      "<class 'pandas.core.frame.DataFrame'>\n",
      "RangeIndex: 730 entries, 0 to 729\n",
      "Data columns (total 11 columns):\n",
      " #   Column      Non-Null Count  Dtype  \n",
      "---  ------      --------------  -----  \n",
      " 0   season      730 non-null    object \n",
      " 1   yr          730 non-null    int64  \n",
      " 2   mnth        730 non-null    object \n",
      " 3   holiday     730 non-null    int64  \n",
      " 4   weekday     730 non-null    object \n",
      " 5   workingday  730 non-null    int64  \n",
      " 6   weathersit  730 non-null    object \n",
      " 7   temp        730 non-null    float64\n",
      " 8   hum         730 non-null    float64\n",
      " 9   windspeed   730 non-null    float64\n",
      " 10  cnt         730 non-null    int64  \n",
      "dtypes: float64(3), int64(4), object(4)\n",
      "memory usage: 62.9+ KB\n"
     ]
    }
   ],
   "source": [
    "Data.info()"
   ]
  },
  {
   "cell_type": "code",
   "execution_count": 21,
   "metadata": {},
   "outputs": [
    {
     "data": {
      "text/html": [
       "<div>\n",
       "<style scoped>\n",
       "    .dataframe tbody tr th:only-of-type {\n",
       "        vertical-align: middle;\n",
       "    }\n",
       "\n",
       "    .dataframe tbody tr th {\n",
       "        vertical-align: top;\n",
       "    }\n",
       "\n",
       "    .dataframe thead th {\n",
       "        text-align: right;\n",
       "    }\n",
       "</style>\n",
       "<table border=\"1\" class=\"dataframe\">\n",
       "  <thead>\n",
       "    <tr style=\"text-align: right;\">\n",
       "      <th></th>\n",
       "      <th>season_spring</th>\n",
       "      <th>season_summer</th>\n",
       "      <th>season_winter</th>\n",
       "      <th>mnth_August</th>\n",
       "      <th>mnth_December</th>\n",
       "      <th>mnth_February</th>\n",
       "      <th>mnth_January</th>\n",
       "      <th>mnth_July</th>\n",
       "      <th>mnth_June</th>\n",
       "      <th>mnth_March</th>\n",
       "      <th>...</th>\n",
       "      <th>mnth_October</th>\n",
       "      <th>mnth_September</th>\n",
       "      <th>weekday_Mon</th>\n",
       "      <th>weekday_Sat</th>\n",
       "      <th>weekday_Sun</th>\n",
       "      <th>weekday_Thurs</th>\n",
       "      <th>weekday_Tues</th>\n",
       "      <th>weekday_Wed</th>\n",
       "      <th>weathersit_cloudy_to_misty</th>\n",
       "      <th>weathersit_misty_to_light_rain_snow</th>\n",
       "    </tr>\n",
       "  </thead>\n",
       "  <tbody>\n",
       "    <tr>\n",
       "      <th>0</th>\n",
       "      <td>1</td>\n",
       "      <td>0</td>\n",
       "      <td>0</td>\n",
       "      <td>0</td>\n",
       "      <td>0</td>\n",
       "      <td>0</td>\n",
       "      <td>1</td>\n",
       "      <td>0</td>\n",
       "      <td>0</td>\n",
       "      <td>0</td>\n",
       "      <td>...</td>\n",
       "      <td>0</td>\n",
       "      <td>0</td>\n",
       "      <td>1</td>\n",
       "      <td>0</td>\n",
       "      <td>0</td>\n",
       "      <td>0</td>\n",
       "      <td>0</td>\n",
       "      <td>0</td>\n",
       "      <td>1</td>\n",
       "      <td>0</td>\n",
       "    </tr>\n",
       "    <tr>\n",
       "      <th>1</th>\n",
       "      <td>1</td>\n",
       "      <td>0</td>\n",
       "      <td>0</td>\n",
       "      <td>0</td>\n",
       "      <td>0</td>\n",
       "      <td>0</td>\n",
       "      <td>1</td>\n",
       "      <td>0</td>\n",
       "      <td>0</td>\n",
       "      <td>0</td>\n",
       "      <td>...</td>\n",
       "      <td>0</td>\n",
       "      <td>0</td>\n",
       "      <td>0</td>\n",
       "      <td>0</td>\n",
       "      <td>0</td>\n",
       "      <td>0</td>\n",
       "      <td>1</td>\n",
       "      <td>0</td>\n",
       "      <td>1</td>\n",
       "      <td>0</td>\n",
       "    </tr>\n",
       "    <tr>\n",
       "      <th>2</th>\n",
       "      <td>1</td>\n",
       "      <td>0</td>\n",
       "      <td>0</td>\n",
       "      <td>0</td>\n",
       "      <td>0</td>\n",
       "      <td>0</td>\n",
       "      <td>1</td>\n",
       "      <td>0</td>\n",
       "      <td>0</td>\n",
       "      <td>0</td>\n",
       "      <td>...</td>\n",
       "      <td>0</td>\n",
       "      <td>0</td>\n",
       "      <td>0</td>\n",
       "      <td>0</td>\n",
       "      <td>0</td>\n",
       "      <td>0</td>\n",
       "      <td>0</td>\n",
       "      <td>1</td>\n",
       "      <td>0</td>\n",
       "      <td>0</td>\n",
       "    </tr>\n",
       "    <tr>\n",
       "      <th>3</th>\n",
       "      <td>1</td>\n",
       "      <td>0</td>\n",
       "      <td>0</td>\n",
       "      <td>0</td>\n",
       "      <td>0</td>\n",
       "      <td>0</td>\n",
       "      <td>1</td>\n",
       "      <td>0</td>\n",
       "      <td>0</td>\n",
       "      <td>0</td>\n",
       "      <td>...</td>\n",
       "      <td>0</td>\n",
       "      <td>0</td>\n",
       "      <td>0</td>\n",
       "      <td>0</td>\n",
       "      <td>0</td>\n",
       "      <td>1</td>\n",
       "      <td>0</td>\n",
       "      <td>0</td>\n",
       "      <td>0</td>\n",
       "      <td>0</td>\n",
       "    </tr>\n",
       "    <tr>\n",
       "      <th>4</th>\n",
       "      <td>1</td>\n",
       "      <td>0</td>\n",
       "      <td>0</td>\n",
       "      <td>0</td>\n",
       "      <td>0</td>\n",
       "      <td>0</td>\n",
       "      <td>1</td>\n",
       "      <td>0</td>\n",
       "      <td>0</td>\n",
       "      <td>0</td>\n",
       "      <td>...</td>\n",
       "      <td>0</td>\n",
       "      <td>0</td>\n",
       "      <td>0</td>\n",
       "      <td>0</td>\n",
       "      <td>0</td>\n",
       "      <td>0</td>\n",
       "      <td>0</td>\n",
       "      <td>0</td>\n",
       "      <td>0</td>\n",
       "      <td>0</td>\n",
       "    </tr>\n",
       "  </tbody>\n",
       "</table>\n",
       "<p>5 rows × 22 columns</p>\n",
       "</div>"
      ],
      "text/plain": [
       "   season_spring  season_summer  season_winter  mnth_August  mnth_December  \\\n",
       "0              1              0              0            0              0   \n",
       "1              1              0              0            0              0   \n",
       "2              1              0              0            0              0   \n",
       "3              1              0              0            0              0   \n",
       "4              1              0              0            0              0   \n",
       "\n",
       "   mnth_February  mnth_January  mnth_July  mnth_June  mnth_March  ...  \\\n",
       "0              0             1          0          0           0  ...   \n",
       "1              0             1          0          0           0  ...   \n",
       "2              0             1          0          0           0  ...   \n",
       "3              0             1          0          0           0  ...   \n",
       "4              0             1          0          0           0  ...   \n",
       "\n",
       "   mnth_October  mnth_September  weekday_Mon  weekday_Sat  weekday_Sun  \\\n",
       "0             0               0            1            0            0   \n",
       "1             0               0            0            0            0   \n",
       "2             0               0            0            0            0   \n",
       "3             0               0            0            0            0   \n",
       "4             0               0            0            0            0   \n",
       "\n",
       "   weekday_Thurs  weekday_Tues  weekday_Wed  weathersit_cloudy_to_misty  \\\n",
       "0              0             0            0                           1   \n",
       "1              0             1            0                           1   \n",
       "2              0             0            1                           0   \n",
       "3              1             0            0                           0   \n",
       "4              0             0            0                           0   \n",
       "\n",
       "   weathersit_misty_to_light_rain_snow  \n",
       "0                                    0  \n",
       "1                                    0  \n",
       "2                                    0  \n",
       "3                                    0  \n",
       "4                                    0  \n",
       "\n",
       "[5 rows x 22 columns]"
      ]
     },
     "execution_count": 21,
     "metadata": {},
     "output_type": "execute_result"
    }
   ],
   "source": [
    "Data_categorical=Data[[\"season\",\"mnth\",\"weekday\",\"weathersit\"]]\n",
    "Data_dummies = pd.get_dummies(Data_categorical, drop_first=True)\n",
    "Data_dummies.head()"
   ]
  },
  {
   "cell_type": "code",
   "execution_count": 22,
   "metadata": {},
   "outputs": [
    {
     "data": {
      "text/plain": [
       "(730, 22)"
      ]
     },
     "execution_count": 22,
     "metadata": {},
     "output_type": "execute_result"
    }
   ],
   "source": [
    "Data_dummies.shape"
   ]
  },
  {
   "cell_type": "markdown",
   "metadata": {},
   "source": [
    "##### Note: not creating dummy variable for [\"yr\",\"holiday\",\"workingday\"] beacuse this variables are already in binary format and acts as pseudo dummy variables only. No need to increase the number of variables"
   ]
  },
  {
   "cell_type": "code",
   "execution_count": 23,
   "metadata": {},
   "outputs": [
    {
     "data": {
      "text/plain": [
       "(730, 29)"
      ]
     },
     "execution_count": 23,
     "metadata": {},
     "output_type": "execute_result"
    },
    {
     "data": {
      "text/html": [
       "<div>\n",
       "<style scoped>\n",
       "    .dataframe tbody tr th:only-of-type {\n",
       "        vertical-align: middle;\n",
       "    }\n",
       "\n",
       "    .dataframe tbody tr th {\n",
       "        vertical-align: top;\n",
       "    }\n",
       "\n",
       "    .dataframe thead th {\n",
       "        text-align: right;\n",
       "    }\n",
       "</style>\n",
       "<table border=\"1\" class=\"dataframe\">\n",
       "  <thead>\n",
       "    <tr style=\"text-align: right;\">\n",
       "      <th></th>\n",
       "      <th>yr</th>\n",
       "      <th>holiday</th>\n",
       "      <th>workingday</th>\n",
       "      <th>temp</th>\n",
       "      <th>hum</th>\n",
       "      <th>windspeed</th>\n",
       "      <th>cnt</th>\n",
       "      <th>season_spring</th>\n",
       "      <th>season_summer</th>\n",
       "      <th>season_winter</th>\n",
       "      <th>...</th>\n",
       "      <th>mnth_October</th>\n",
       "      <th>mnth_September</th>\n",
       "      <th>weekday_Mon</th>\n",
       "      <th>weekday_Sat</th>\n",
       "      <th>weekday_Sun</th>\n",
       "      <th>weekday_Thurs</th>\n",
       "      <th>weekday_Tues</th>\n",
       "      <th>weekday_Wed</th>\n",
       "      <th>weathersit_cloudy_to_misty</th>\n",
       "      <th>weathersit_misty_to_light_rain_snow</th>\n",
       "    </tr>\n",
       "  </thead>\n",
       "  <tbody>\n",
       "    <tr>\n",
       "      <th>0</th>\n",
       "      <td>0</td>\n",
       "      <td>0</td>\n",
       "      <td>0</td>\n",
       "      <td>14.110847</td>\n",
       "      <td>80.5833</td>\n",
       "      <td>10.749882</td>\n",
       "      <td>985</td>\n",
       "      <td>1</td>\n",
       "      <td>0</td>\n",
       "      <td>0</td>\n",
       "      <td>...</td>\n",
       "      <td>0</td>\n",
       "      <td>0</td>\n",
       "      <td>1</td>\n",
       "      <td>0</td>\n",
       "      <td>0</td>\n",
       "      <td>0</td>\n",
       "      <td>0</td>\n",
       "      <td>0</td>\n",
       "      <td>1</td>\n",
       "      <td>0</td>\n",
       "    </tr>\n",
       "    <tr>\n",
       "      <th>1</th>\n",
       "      <td>0</td>\n",
       "      <td>0</td>\n",
       "      <td>0</td>\n",
       "      <td>14.902598</td>\n",
       "      <td>69.6087</td>\n",
       "      <td>16.652113</td>\n",
       "      <td>801</td>\n",
       "      <td>1</td>\n",
       "      <td>0</td>\n",
       "      <td>0</td>\n",
       "      <td>...</td>\n",
       "      <td>0</td>\n",
       "      <td>0</td>\n",
       "      <td>0</td>\n",
       "      <td>0</td>\n",
       "      <td>0</td>\n",
       "      <td>0</td>\n",
       "      <td>1</td>\n",
       "      <td>0</td>\n",
       "      <td>1</td>\n",
       "      <td>0</td>\n",
       "    </tr>\n",
       "  </tbody>\n",
       "</table>\n",
       "<p>2 rows × 29 columns</p>\n",
       "</div>"
      ],
      "text/plain": [
       "   yr  holiday  workingday       temp      hum  windspeed  cnt  season_spring  \\\n",
       "0   0        0           0  14.110847  80.5833  10.749882  985              1   \n",
       "1   0        0           0  14.902598  69.6087  16.652113  801              1   \n",
       "\n",
       "   season_summer  season_winter  ...  mnth_October  mnth_September  \\\n",
       "0              0              0  ...             0               0   \n",
       "1              0              0  ...             0               0   \n",
       "\n",
       "   weekday_Mon  weekday_Sat  weekday_Sun  weekday_Thurs  weekday_Tues  \\\n",
       "0            1            0            0              0             0   \n",
       "1            0            0            0              0             1   \n",
       "\n",
       "   weekday_Wed  weathersit_cloudy_to_misty  \\\n",
       "0            0                           1   \n",
       "1            0                           1   \n",
       "\n",
       "   weathersit_misty_to_light_rain_snow  \n",
       "0                                    0  \n",
       "1                                    0  \n",
       "\n",
       "[2 rows x 29 columns]"
      ]
     },
     "execution_count": 23,
     "metadata": {},
     "output_type": "execute_result"
    }
   ],
   "source": [
    "# Dropping the columns [\"season\",\"mnth\",\"weekday\",\"weathersit\"] from original data\n",
    "Data_1 = Data.drop([\"season\",\"mnth\",\"weekday\",\"weathersit\"], axis=1)\n",
    "# Concatenating dummy variables for [\"season\",\"mnth\",\"weekday\",\"weathersit\"] with the original data\n",
    "Data_final = pd.concat([Data_1, Data_dummies], axis=1)\n",
    "Data_final.shape\n",
    "Data_final.head(2)"
   ]
  },
  {
   "cell_type": "markdown",
   "metadata": {},
   "source": [
    "### STEP 2:  dividing the data into training set and test set"
   ]
  },
  {
   "cell_type": "code",
   "execution_count": 24,
   "metadata": {},
   "outputs": [
    {
     "data": {
      "text/plain": [
       "(510, 29)"
      ]
     },
     "execution_count": 24,
     "metadata": {},
     "output_type": "execute_result"
    },
    {
     "data": {
      "text/plain": [
       "(219, 29)"
      ]
     },
     "execution_count": 24,
     "metadata": {},
     "output_type": "execute_result"
    }
   ],
   "source": [
    "np.random.seed(0)\n",
    "Data_final_train, Data_final_test = train_test_split(Data_final, train_size=0.7, test_size=0.3, random_state=100)\n",
    "Data_final_train.shape\n",
    "Data_final_test.shape"
   ]
  },
  {
   "cell_type": "markdown",
   "metadata": {},
   "source": [
    "### STEP 3:  Scaling the numeric vriables"
   ]
  },
  {
   "cell_type": "code",
   "execution_count": 25,
   "metadata": {},
   "outputs": [],
   "source": [
    "# creating the object for scaling\n",
    "scaler= MinMaxScaler()\n",
    "# Applying the scaling object to all the numeric variables and fitting as well as transforming the training set\n",
    "num_var = ['cnt','temp','hum','windspeed']\n",
    "Data_final_train[num_var] = scaler.fit_transform(Data_final_train[num_var])"
   ]
  },
  {
   "cell_type": "code",
   "execution_count": 26,
   "metadata": {},
   "outputs": [
    {
     "data": {
      "text/html": [
       "<div>\n",
       "<style scoped>\n",
       "    .dataframe tbody tr th:only-of-type {\n",
       "        vertical-align: middle;\n",
       "    }\n",
       "\n",
       "    .dataframe tbody tr th {\n",
       "        vertical-align: top;\n",
       "    }\n",
       "\n",
       "    .dataframe thead th {\n",
       "        text-align: right;\n",
       "    }\n",
       "</style>\n",
       "<table border=\"1\" class=\"dataframe\">\n",
       "  <thead>\n",
       "    <tr style=\"text-align: right;\">\n",
       "      <th></th>\n",
       "      <th>yr</th>\n",
       "      <th>holiday</th>\n",
       "      <th>workingday</th>\n",
       "      <th>temp</th>\n",
       "      <th>hum</th>\n",
       "      <th>windspeed</th>\n",
       "      <th>cnt</th>\n",
       "      <th>season_spring</th>\n",
       "      <th>season_summer</th>\n",
       "      <th>season_winter</th>\n",
       "      <th>...</th>\n",
       "      <th>mnth_October</th>\n",
       "      <th>mnth_September</th>\n",
       "      <th>weekday_Mon</th>\n",
       "      <th>weekday_Sat</th>\n",
       "      <th>weekday_Sun</th>\n",
       "      <th>weekday_Thurs</th>\n",
       "      <th>weekday_Tues</th>\n",
       "      <th>weekday_Wed</th>\n",
       "      <th>weathersit_cloudy_to_misty</th>\n",
       "      <th>weathersit_misty_to_light_rain_snow</th>\n",
       "    </tr>\n",
       "  </thead>\n",
       "  <tbody>\n",
       "    <tr>\n",
       "      <th>count</th>\n",
       "      <td>510.000000</td>\n",
       "      <td>510.000000</td>\n",
       "      <td>510.000000</td>\n",
       "      <td>510.000000</td>\n",
       "      <td>510.000000</td>\n",
       "      <td>510.000000</td>\n",
       "      <td>510.000000</td>\n",
       "      <td>510.000000</td>\n",
       "      <td>510.000000</td>\n",
       "      <td>510.00000</td>\n",
       "      <td>...</td>\n",
       "      <td>510.000000</td>\n",
       "      <td>510.000000</td>\n",
       "      <td>510.000000</td>\n",
       "      <td>510.000000</td>\n",
       "      <td>510.000000</td>\n",
       "      <td>510.000000</td>\n",
       "      <td>510.000000</td>\n",
       "      <td>510.000000</td>\n",
       "      <td>510.000000</td>\n",
       "      <td>510.000000</td>\n",
       "    </tr>\n",
       "    <tr>\n",
       "      <th>mean</th>\n",
       "      <td>0.507843</td>\n",
       "      <td>0.025490</td>\n",
       "      <td>0.676471</td>\n",
       "      <td>0.537262</td>\n",
       "      <td>0.650369</td>\n",
       "      <td>0.320768</td>\n",
       "      <td>0.513620</td>\n",
       "      <td>0.243137</td>\n",
       "      <td>0.245098</td>\n",
       "      <td>0.24902</td>\n",
       "      <td>...</td>\n",
       "      <td>0.086275</td>\n",
       "      <td>0.080392</td>\n",
       "      <td>0.154902</td>\n",
       "      <td>0.133333</td>\n",
       "      <td>0.127451</td>\n",
       "      <td>0.131373</td>\n",
       "      <td>0.143137</td>\n",
       "      <td>0.150980</td>\n",
       "      <td>0.343137</td>\n",
       "      <td>0.029412</td>\n",
       "    </tr>\n",
       "    <tr>\n",
       "      <th>std</th>\n",
       "      <td>0.500429</td>\n",
       "      <td>0.157763</td>\n",
       "      <td>0.468282</td>\n",
       "      <td>0.225844</td>\n",
       "      <td>0.145882</td>\n",
       "      <td>0.169797</td>\n",
       "      <td>0.224593</td>\n",
       "      <td>0.429398</td>\n",
       "      <td>0.430568</td>\n",
       "      <td>0.43287</td>\n",
       "      <td>...</td>\n",
       "      <td>0.281045</td>\n",
       "      <td>0.272166</td>\n",
       "      <td>0.362166</td>\n",
       "      <td>0.340268</td>\n",
       "      <td>0.333805</td>\n",
       "      <td>0.338139</td>\n",
       "      <td>0.350557</td>\n",
       "      <td>0.358381</td>\n",
       "      <td>0.475223</td>\n",
       "      <td>0.169124</td>\n",
       "    </tr>\n",
       "    <tr>\n",
       "      <th>min</th>\n",
       "      <td>0.000000</td>\n",
       "      <td>0.000000</td>\n",
       "      <td>0.000000</td>\n",
       "      <td>0.000000</td>\n",
       "      <td>0.000000</td>\n",
       "      <td>0.000000</td>\n",
       "      <td>0.000000</td>\n",
       "      <td>0.000000</td>\n",
       "      <td>0.000000</td>\n",
       "      <td>0.00000</td>\n",
       "      <td>...</td>\n",
       "      <td>0.000000</td>\n",
       "      <td>0.000000</td>\n",
       "      <td>0.000000</td>\n",
       "      <td>0.000000</td>\n",
       "      <td>0.000000</td>\n",
       "      <td>0.000000</td>\n",
       "      <td>0.000000</td>\n",
       "      <td>0.000000</td>\n",
       "      <td>0.000000</td>\n",
       "      <td>0.000000</td>\n",
       "    </tr>\n",
       "    <tr>\n",
       "      <th>25%</th>\n",
       "      <td>0.000000</td>\n",
       "      <td>0.000000</td>\n",
       "      <td>0.000000</td>\n",
       "      <td>0.339853</td>\n",
       "      <td>0.538643</td>\n",
       "      <td>0.199179</td>\n",
       "      <td>0.356420</td>\n",
       "      <td>0.000000</td>\n",
       "      <td>0.000000</td>\n",
       "      <td>0.00000</td>\n",
       "      <td>...</td>\n",
       "      <td>0.000000</td>\n",
       "      <td>0.000000</td>\n",
       "      <td>0.000000</td>\n",
       "      <td>0.000000</td>\n",
       "      <td>0.000000</td>\n",
       "      <td>0.000000</td>\n",
       "      <td>0.000000</td>\n",
       "      <td>0.000000</td>\n",
       "      <td>0.000000</td>\n",
       "      <td>0.000000</td>\n",
       "    </tr>\n",
       "    <tr>\n",
       "      <th>50%</th>\n",
       "      <td>1.000000</td>\n",
       "      <td>0.000000</td>\n",
       "      <td>1.000000</td>\n",
       "      <td>0.540519</td>\n",
       "      <td>0.653714</td>\n",
       "      <td>0.296763</td>\n",
       "      <td>0.518638</td>\n",
       "      <td>0.000000</td>\n",
       "      <td>0.000000</td>\n",
       "      <td>0.00000</td>\n",
       "      <td>...</td>\n",
       "      <td>0.000000</td>\n",
       "      <td>0.000000</td>\n",
       "      <td>0.000000</td>\n",
       "      <td>0.000000</td>\n",
       "      <td>0.000000</td>\n",
       "      <td>0.000000</td>\n",
       "      <td>0.000000</td>\n",
       "      <td>0.000000</td>\n",
       "      <td>0.000000</td>\n",
       "      <td>0.000000</td>\n",
       "    </tr>\n",
       "    <tr>\n",
       "      <th>75%</th>\n",
       "      <td>1.000000</td>\n",
       "      <td>0.000000</td>\n",
       "      <td>1.000000</td>\n",
       "      <td>0.735215</td>\n",
       "      <td>0.754830</td>\n",
       "      <td>0.414447</td>\n",
       "      <td>0.684710</td>\n",
       "      <td>0.000000</td>\n",
       "      <td>0.000000</td>\n",
       "      <td>0.00000</td>\n",
       "      <td>...</td>\n",
       "      <td>0.000000</td>\n",
       "      <td>0.000000</td>\n",
       "      <td>0.000000</td>\n",
       "      <td>0.000000</td>\n",
       "      <td>0.000000</td>\n",
       "      <td>0.000000</td>\n",
       "      <td>0.000000</td>\n",
       "      <td>0.000000</td>\n",
       "      <td>1.000000</td>\n",
       "      <td>0.000000</td>\n",
       "    </tr>\n",
       "    <tr>\n",
       "      <th>max</th>\n",
       "      <td>1.000000</td>\n",
       "      <td>1.000000</td>\n",
       "      <td>1.000000</td>\n",
       "      <td>1.000000</td>\n",
       "      <td>1.000000</td>\n",
       "      <td>1.000000</td>\n",
       "      <td>1.000000</td>\n",
       "      <td>1.000000</td>\n",
       "      <td>1.000000</td>\n",
       "      <td>1.00000</td>\n",
       "      <td>...</td>\n",
       "      <td>1.000000</td>\n",
       "      <td>1.000000</td>\n",
       "      <td>1.000000</td>\n",
       "      <td>1.000000</td>\n",
       "      <td>1.000000</td>\n",
       "      <td>1.000000</td>\n",
       "      <td>1.000000</td>\n",
       "      <td>1.000000</td>\n",
       "      <td>1.000000</td>\n",
       "      <td>1.000000</td>\n",
       "    </tr>\n",
       "  </tbody>\n",
       "</table>\n",
       "<p>8 rows × 29 columns</p>\n",
       "</div>"
      ],
      "text/plain": [
       "               yr     holiday  workingday        temp         hum   windspeed  \\\n",
       "count  510.000000  510.000000  510.000000  510.000000  510.000000  510.000000   \n",
       "mean     0.507843    0.025490    0.676471    0.537262    0.650369    0.320768   \n",
       "std      0.500429    0.157763    0.468282    0.225844    0.145882    0.169797   \n",
       "min      0.000000    0.000000    0.000000    0.000000    0.000000    0.000000   \n",
       "25%      0.000000    0.000000    0.000000    0.339853    0.538643    0.199179   \n",
       "50%      1.000000    0.000000    1.000000    0.540519    0.653714    0.296763   \n",
       "75%      1.000000    0.000000    1.000000    0.735215    0.754830    0.414447   \n",
       "max      1.000000    1.000000    1.000000    1.000000    1.000000    1.000000   \n",
       "\n",
       "              cnt  season_spring  season_summer  season_winter  ...  \\\n",
       "count  510.000000     510.000000     510.000000      510.00000  ...   \n",
       "mean     0.513620       0.243137       0.245098        0.24902  ...   \n",
       "std      0.224593       0.429398       0.430568        0.43287  ...   \n",
       "min      0.000000       0.000000       0.000000        0.00000  ...   \n",
       "25%      0.356420       0.000000       0.000000        0.00000  ...   \n",
       "50%      0.518638       0.000000       0.000000        0.00000  ...   \n",
       "75%      0.684710       0.000000       0.000000        0.00000  ...   \n",
       "max      1.000000       1.000000       1.000000        1.00000  ...   \n",
       "\n",
       "       mnth_October  mnth_September  weekday_Mon  weekday_Sat  weekday_Sun  \\\n",
       "count    510.000000      510.000000   510.000000   510.000000   510.000000   \n",
       "mean       0.086275        0.080392     0.154902     0.133333     0.127451   \n",
       "std        0.281045        0.272166     0.362166     0.340268     0.333805   \n",
       "min        0.000000        0.000000     0.000000     0.000000     0.000000   \n",
       "25%        0.000000        0.000000     0.000000     0.000000     0.000000   \n",
       "50%        0.000000        0.000000     0.000000     0.000000     0.000000   \n",
       "75%        0.000000        0.000000     0.000000     0.000000     0.000000   \n",
       "max        1.000000        1.000000     1.000000     1.000000     1.000000   \n",
       "\n",
       "       weekday_Thurs  weekday_Tues  weekday_Wed  weathersit_cloudy_to_misty  \\\n",
       "count     510.000000    510.000000   510.000000                  510.000000   \n",
       "mean        0.131373      0.143137     0.150980                    0.343137   \n",
       "std         0.338139      0.350557     0.358381                    0.475223   \n",
       "min         0.000000      0.000000     0.000000                    0.000000   \n",
       "25%         0.000000      0.000000     0.000000                    0.000000   \n",
       "50%         0.000000      0.000000     0.000000                    0.000000   \n",
       "75%         0.000000      0.000000     0.000000                    1.000000   \n",
       "max         1.000000      1.000000     1.000000                    1.000000   \n",
       "\n",
       "       weathersit_misty_to_light_rain_snow  \n",
       "count                           510.000000  \n",
       "mean                              0.029412  \n",
       "std                               0.169124  \n",
       "min                               0.000000  \n",
       "25%                               0.000000  \n",
       "50%                               0.000000  \n",
       "75%                               0.000000  \n",
       "max                               1.000000  \n",
       "\n",
       "[8 rows x 29 columns]"
      ]
     },
     "execution_count": 26,
     "metadata": {},
     "output_type": "execute_result"
    }
   ],
   "source": [
    "# to check if the scaling is done properly:\n",
    "Data_final_train.describe()"
   ]
  },
  {
   "cell_type": "markdown",
   "metadata": {},
   "source": [
    "### STEP 4:  Building model with all the features using OLS technique"
   ]
  },
  {
   "cell_type": "code",
   "execution_count": 27,
   "metadata": {},
   "outputs": [
    {
     "data": {
      "text/plain": [
       "653    0.864243\n",
       "576    0.827658\n",
       "Name: cnt, dtype: float64"
      ]
     },
     "execution_count": 27,
     "metadata": {},
     "output_type": "execute_result"
    },
    {
     "data": {
      "text/html": [
       "<div>\n",
       "<style scoped>\n",
       "    .dataframe tbody tr th:only-of-type {\n",
       "        vertical-align: middle;\n",
       "    }\n",
       "\n",
       "    .dataframe tbody tr th {\n",
       "        vertical-align: top;\n",
       "    }\n",
       "\n",
       "    .dataframe thead th {\n",
       "        text-align: right;\n",
       "    }\n",
       "</style>\n",
       "<table border=\"1\" class=\"dataframe\">\n",
       "  <thead>\n",
       "    <tr style=\"text-align: right;\">\n",
       "      <th></th>\n",
       "      <th>yr</th>\n",
       "      <th>holiday</th>\n",
       "      <th>workingday</th>\n",
       "      <th>temp</th>\n",
       "      <th>hum</th>\n",
       "      <th>windspeed</th>\n",
       "      <th>season_spring</th>\n",
       "      <th>season_summer</th>\n",
       "      <th>season_winter</th>\n",
       "      <th>mnth_August</th>\n",
       "      <th>...</th>\n",
       "      <th>mnth_October</th>\n",
       "      <th>mnth_September</th>\n",
       "      <th>weekday_Mon</th>\n",
       "      <th>weekday_Sat</th>\n",
       "      <th>weekday_Sun</th>\n",
       "      <th>weekday_Thurs</th>\n",
       "      <th>weekday_Tues</th>\n",
       "      <th>weekday_Wed</th>\n",
       "      <th>weathersit_cloudy_to_misty</th>\n",
       "      <th>weathersit_misty_to_light_rain_snow</th>\n",
       "    </tr>\n",
       "  </thead>\n",
       "  <tbody>\n",
       "    <tr>\n",
       "      <th>653</th>\n",
       "      <td>1</td>\n",
       "      <td>0</td>\n",
       "      <td>1</td>\n",
       "      <td>0.509887</td>\n",
       "      <td>0.575354</td>\n",
       "      <td>0.300794</td>\n",
       "      <td>0</td>\n",
       "      <td>0</td>\n",
       "      <td>1</td>\n",
       "      <td>0</td>\n",
       "      <td>...</td>\n",
       "      <td>1</td>\n",
       "      <td>0</td>\n",
       "      <td>0</td>\n",
       "      <td>0</td>\n",
       "      <td>0</td>\n",
       "      <td>1</td>\n",
       "      <td>0</td>\n",
       "      <td>0</td>\n",
       "      <td>0</td>\n",
       "      <td>0</td>\n",
       "    </tr>\n",
       "    <tr>\n",
       "      <th>576</th>\n",
       "      <td>1</td>\n",
       "      <td>0</td>\n",
       "      <td>1</td>\n",
       "      <td>0.815169</td>\n",
       "      <td>0.725633</td>\n",
       "      <td>0.264686</td>\n",
       "      <td>0</td>\n",
       "      <td>0</td>\n",
       "      <td>0</td>\n",
       "      <td>0</td>\n",
       "      <td>...</td>\n",
       "      <td>0</td>\n",
       "      <td>0</td>\n",
       "      <td>0</td>\n",
       "      <td>0</td>\n",
       "      <td>0</td>\n",
       "      <td>1</td>\n",
       "      <td>0</td>\n",
       "      <td>0</td>\n",
       "      <td>0</td>\n",
       "      <td>0</td>\n",
       "    </tr>\n",
       "  </tbody>\n",
       "</table>\n",
       "<p>2 rows × 28 columns</p>\n",
       "</div>"
      ],
      "text/plain": [
       "     yr  holiday  workingday      temp       hum  windspeed  season_spring  \\\n",
       "653   1        0           1  0.509887  0.575354   0.300794              0   \n",
       "576   1        0           1  0.815169  0.725633   0.264686              0   \n",
       "\n",
       "     season_summer  season_winter  mnth_August  ...  mnth_October  \\\n",
       "653              0              1            0  ...             1   \n",
       "576              0              0            0  ...             0   \n",
       "\n",
       "     mnth_September  weekday_Mon  weekday_Sat  weekday_Sun  weekday_Thurs  \\\n",
       "653               0            0            0            0              1   \n",
       "576               0            0            0            0              1   \n",
       "\n",
       "     weekday_Tues  weekday_Wed  weathersit_cloudy_to_misty  \\\n",
       "653             0            0                           0   \n",
       "576             0            0                           0   \n",
       "\n",
       "     weathersit_misty_to_light_rain_snow  \n",
       "653                                    0  \n",
       "576                                    0  \n",
       "\n",
       "[2 rows x 28 columns]"
      ]
     },
     "execution_count": 27,
     "metadata": {},
     "output_type": "execute_result"
    }
   ],
   "source": [
    "y_train = Data_final_train.pop('cnt')\n",
    "X_train = Data_final_train\n",
    "y_train.head(2)\n",
    "X_train.head(2)"
   ]
  },
  {
   "cell_type": "code",
   "execution_count": 28,
   "metadata": {},
   "outputs": [
    {
     "data": {
      "text/plain": [
       "const                                  0.242930\n",
       "yr                                     0.232116\n",
       "holiday                                0.006726\n",
       "workingday                             0.093651\n",
       "temp                                   0.450562\n",
       "hum                                   -0.151340\n",
       "windspeed                             -0.186453\n",
       "season_spring                         -0.048159\n",
       "season_summer                          0.038725\n",
       "season_winter                          0.105847\n",
       "mnth_August                            0.014404\n",
       "mnth_December                         -0.045586\n",
       "mnth_February                         -0.032282\n",
       "mnth_January                          -0.062777\n",
       "mnth_July                             -0.040350\n",
       "mnth_June                             -0.002972\n",
       "mnth_March                             0.001045\n",
       "mnth_May                               0.023940\n",
       "mnth_November                         -0.041851\n",
       "mnth_October                           0.007534\n",
       "mnth_September                         0.081060\n",
       "weekday_Mon                            0.098544\n",
       "weekday_Sat                           -0.003849\n",
       "weekday_Sun                            0.005388\n",
       "weekday_Thurs                         -0.013502\n",
       "weekday_Tues                           0.044008\n",
       "weekday_Wed                           -0.015519\n",
       "weathersit_cloudy_to_misty            -0.061066\n",
       "weathersit_misty_to_light_rain_snow   -0.257443\n",
       "dtype: float64"
      ]
     },
     "execution_count": 28,
     "metadata": {},
     "output_type": "execute_result"
    },
    {
     "data": {
      "text/html": [
       "<table class=\"simpletable\">\n",
       "<caption>OLS Regression Results</caption>\n",
       "<tr>\n",
       "  <th>Dep. Variable:</th>           <td>cnt</td>       <th>  R-squared:         </th> <td>   0.853</td> \n",
       "</tr>\n",
       "<tr>\n",
       "  <th>Model:</th>                   <td>OLS</td>       <th>  Adj. R-squared:    </th> <td>   0.845</td> \n",
       "</tr>\n",
       "<tr>\n",
       "  <th>Method:</th>             <td>Least Squares</td>  <th>  F-statistic:       </th> <td>   103.8</td> \n",
       "</tr>\n",
       "<tr>\n",
       "  <th>Date:</th>             <td>Wed, 15 Dec 2021</td> <th>  Prob (F-statistic):</th> <td>8.74e-182</td>\n",
       "</tr>\n",
       "<tr>\n",
       "  <th>Time:</th>                 <td>15:14:52</td>     <th>  Log-Likelihood:    </th> <td>  527.95</td> \n",
       "</tr>\n",
       "<tr>\n",
       "  <th>No. Observations:</th>      <td>   510</td>      <th>  AIC:               </th> <td>  -999.9</td> \n",
       "</tr>\n",
       "<tr>\n",
       "  <th>Df Residuals:</th>          <td>   482</td>      <th>  BIC:               </th> <td>  -881.3</td> \n",
       "</tr>\n",
       "<tr>\n",
       "  <th>Df Model:</th>              <td>    27</td>      <th>                     </th>     <td> </td>    \n",
       "</tr>\n",
       "<tr>\n",
       "  <th>Covariance Type:</th>      <td>nonrobust</td>    <th>                     </th>     <td> </td>    \n",
       "</tr>\n",
       "</table>\n",
       "<table class=\"simpletable\">\n",
       "<tr>\n",
       "                   <td></td>                      <th>coef</th>     <th>std err</th>      <th>t</th>      <th>P>|t|</th>  <th>[0.025</th>    <th>0.975]</th>  \n",
       "</tr>\n",
       "<tr>\n",
       "  <th>const</th>                               <td>    0.2429</td> <td>    0.035</td> <td>    6.854</td> <td> 0.000</td> <td>    0.173</td> <td>    0.313</td>\n",
       "</tr>\n",
       "<tr>\n",
       "  <th>yr</th>                                  <td>    0.2321</td> <td>    0.008</td> <td>   28.820</td> <td> 0.000</td> <td>    0.216</td> <td>    0.248</td>\n",
       "</tr>\n",
       "<tr>\n",
       "  <th>holiday</th>                             <td>    0.0067</td> <td>    0.024</td> <td>    0.278</td> <td> 0.781</td> <td>   -0.041</td> <td>    0.054</td>\n",
       "</tr>\n",
       "<tr>\n",
       "  <th>workingday</th>                          <td>    0.0937</td> <td>    0.012</td> <td>    7.783</td> <td> 0.000</td> <td>    0.070</td> <td>    0.117</td>\n",
       "</tr>\n",
       "<tr>\n",
       "  <th>temp</th>                                <td>    0.4506</td> <td>    0.046</td> <td>    9.734</td> <td> 0.000</td> <td>    0.360</td> <td>    0.542</td>\n",
       "</tr>\n",
       "<tr>\n",
       "  <th>hum</th>                                 <td>   -0.1513</td> <td>    0.038</td> <td>   -3.933</td> <td> 0.000</td> <td>   -0.227</td> <td>   -0.076</td>\n",
       "</tr>\n",
       "<tr>\n",
       "  <th>windspeed</th>                           <td>   -0.1865</td> <td>    0.026</td> <td>   -7.257</td> <td> 0.000</td> <td>   -0.237</td> <td>   -0.136</td>\n",
       "</tr>\n",
       "<tr>\n",
       "  <th>season_spring</th>                       <td>   -0.0482</td> <td>    0.030</td> <td>   -1.607</td> <td> 0.109</td> <td>   -0.107</td> <td>    0.011</td>\n",
       "</tr>\n",
       "<tr>\n",
       "  <th>season_summer</th>                       <td>    0.0387</td> <td>    0.026</td> <td>    1.478</td> <td> 0.140</td> <td>   -0.013</td> <td>    0.090</td>\n",
       "</tr>\n",
       "<tr>\n",
       "  <th>season_winter</th>                       <td>    0.1058</td> <td>    0.028</td> <td>    3.794</td> <td> 0.000</td> <td>    0.051</td> <td>    0.161</td>\n",
       "</tr>\n",
       "<tr>\n",
       "  <th>mnth_August</th>                         <td>    0.0144</td> <td>    0.034</td> <td>    0.428</td> <td> 0.669</td> <td>   -0.052</td> <td>    0.081</td>\n",
       "</tr>\n",
       "<tr>\n",
       "  <th>mnth_December</th>                       <td>   -0.0456</td> <td>    0.034</td> <td>   -1.358</td> <td> 0.175</td> <td>   -0.112</td> <td>    0.020</td>\n",
       "</tr>\n",
       "<tr>\n",
       "  <th>mnth_February</th>                       <td>   -0.0323</td> <td>    0.033</td> <td>   -0.982</td> <td> 0.327</td> <td>   -0.097</td> <td>    0.032</td>\n",
       "</tr>\n",
       "<tr>\n",
       "  <th>mnth_January</th>                        <td>   -0.0628</td> <td>    0.034</td> <td>   -1.873</td> <td> 0.062</td> <td>   -0.129</td> <td>    0.003</td>\n",
       "</tr>\n",
       "<tr>\n",
       "  <th>mnth_July</th>                           <td>   -0.0404</td> <td>    0.035</td> <td>   -1.151</td> <td> 0.250</td> <td>   -0.109</td> <td>    0.029</td>\n",
       "</tr>\n",
       "<tr>\n",
       "  <th>mnth_June</th>                           <td>   -0.0030</td> <td>    0.025</td> <td>   -0.119</td> <td> 0.906</td> <td>   -0.052</td> <td>    0.046</td>\n",
       "</tr>\n",
       "<tr>\n",
       "  <th>mnth_March</th>                          <td>    0.0010</td> <td>    0.025</td> <td>    0.043</td> <td> 0.966</td> <td>   -0.047</td> <td>    0.049</td>\n",
       "</tr>\n",
       "<tr>\n",
       "  <th>mnth_May</th>                            <td>    0.0239</td> <td>    0.021</td> <td>    1.140</td> <td> 0.255</td> <td>   -0.017</td> <td>    0.065</td>\n",
       "</tr>\n",
       "<tr>\n",
       "  <th>mnth_November</th>                       <td>   -0.0419</td> <td>    0.036</td> <td>   -1.152</td> <td> 0.250</td> <td>   -0.113</td> <td>    0.030</td>\n",
       "</tr>\n",
       "<tr>\n",
       "  <th>mnth_October</th>                        <td>    0.0075</td> <td>    0.036</td> <td>    0.211</td> <td> 0.833</td> <td>   -0.063</td> <td>    0.078</td>\n",
       "</tr>\n",
       "<tr>\n",
       "  <th>mnth_September</th>                      <td>    0.0811</td> <td>    0.032</td> <td>    2.533</td> <td> 0.012</td> <td>    0.018</td> <td>    0.144</td>\n",
       "</tr>\n",
       "<tr>\n",
       "  <th>weekday_Mon</th>                         <td>    0.0985</td> <td>    0.013</td> <td>    7.300</td> <td> 0.000</td> <td>    0.072</td> <td>    0.125</td>\n",
       "</tr>\n",
       "<tr>\n",
       "  <th>weekday_Sat</th>                         <td>   -0.0038</td> <td>    0.015</td> <td>   -0.263</td> <td> 0.793</td> <td>   -0.033</td> <td>    0.025</td>\n",
       "</tr>\n",
       "<tr>\n",
       "  <th>weekday_Sun</th>                         <td>    0.0054</td> <td>    0.015</td> <td>    0.362</td> <td> 0.718</td> <td>   -0.024</td> <td>    0.035</td>\n",
       "</tr>\n",
       "<tr>\n",
       "  <th>weekday_Thurs</th>                       <td>   -0.0135</td> <td>    0.015</td> <td>   -0.917</td> <td> 0.359</td> <td>   -0.042</td> <td>    0.015</td>\n",
       "</tr>\n",
       "<tr>\n",
       "  <th>weekday_Tues</th>                        <td>    0.0440</td> <td>    0.014</td> <td>    3.213</td> <td> 0.001</td> <td>    0.017</td> <td>    0.071</td>\n",
       "</tr>\n",
       "<tr>\n",
       "  <th>weekday_Wed</th>                         <td>   -0.0155</td> <td>    0.015</td> <td>   -1.064</td> <td> 0.288</td> <td>   -0.044</td> <td>    0.013</td>\n",
       "</tr>\n",
       "<tr>\n",
       "  <th>weathersit_cloudy_to_misty</th>          <td>   -0.0611</td> <td>    0.010</td> <td>   -5.854</td> <td> 0.000</td> <td>   -0.082</td> <td>   -0.041</td>\n",
       "</tr>\n",
       "<tr>\n",
       "  <th>weathersit_misty_to_light_rain_snow</th> <td>   -0.2574</td> <td>    0.026</td> <td>   -9.778</td> <td> 0.000</td> <td>   -0.309</td> <td>   -0.206</td>\n",
       "</tr>\n",
       "</table>\n",
       "<table class=\"simpletable\">\n",
       "<tr>\n",
       "  <th>Omnibus:</th>       <td>84.475</td> <th>  Durbin-Watson:     </th> <td>   2.040</td>\n",
       "</tr>\n",
       "<tr>\n",
       "  <th>Prob(Omnibus):</th> <td> 0.000</td> <th>  Jarque-Bera (JB):  </th> <td> 235.382</td>\n",
       "</tr>\n",
       "<tr>\n",
       "  <th>Skew:</th>          <td>-0.804</td> <th>  Prob(JB):          </th> <td>7.72e-52</td>\n",
       "</tr>\n",
       "<tr>\n",
       "  <th>Kurtosis:</th>      <td> 5.914</td> <th>  Cond. No.          </th> <td>1.34e+16</td>\n",
       "</tr>\n",
       "</table><br/><br/>Notes:<br/>[1] Standard Errors assume that the covariance matrix of the errors is correctly specified.<br/>[2] The smallest eigenvalue is 8.81e-30. This might indicate that there are<br/>strong multicollinearity problems or that the design matrix is singular."
      ],
      "text/plain": [
       "<class 'statsmodels.iolib.summary.Summary'>\n",
       "\"\"\"\n",
       "                            OLS Regression Results                            \n",
       "==============================================================================\n",
       "Dep. Variable:                    cnt   R-squared:                       0.853\n",
       "Model:                            OLS   Adj. R-squared:                  0.845\n",
       "Method:                 Least Squares   F-statistic:                     103.8\n",
       "Date:                Wed, 15 Dec 2021   Prob (F-statistic):          8.74e-182\n",
       "Time:                        15:14:52   Log-Likelihood:                 527.95\n",
       "No. Observations:                 510   AIC:                            -999.9\n",
       "Df Residuals:                     482   BIC:                            -881.3\n",
       "Df Model:                          27                                         \n",
       "Covariance Type:            nonrobust                                         \n",
       "=======================================================================================================\n",
       "                                          coef    std err          t      P>|t|      [0.025      0.975]\n",
       "-------------------------------------------------------------------------------------------------------\n",
       "const                                   0.2429      0.035      6.854      0.000       0.173       0.313\n",
       "yr                                      0.2321      0.008     28.820      0.000       0.216       0.248\n",
       "holiday                                 0.0067      0.024      0.278      0.781      -0.041       0.054\n",
       "workingday                              0.0937      0.012      7.783      0.000       0.070       0.117\n",
       "temp                                    0.4506      0.046      9.734      0.000       0.360       0.542\n",
       "hum                                    -0.1513      0.038     -3.933      0.000      -0.227      -0.076\n",
       "windspeed                              -0.1865      0.026     -7.257      0.000      -0.237      -0.136\n",
       "season_spring                          -0.0482      0.030     -1.607      0.109      -0.107       0.011\n",
       "season_summer                           0.0387      0.026      1.478      0.140      -0.013       0.090\n",
       "season_winter                           0.1058      0.028      3.794      0.000       0.051       0.161\n",
       "mnth_August                             0.0144      0.034      0.428      0.669      -0.052       0.081\n",
       "mnth_December                          -0.0456      0.034     -1.358      0.175      -0.112       0.020\n",
       "mnth_February                          -0.0323      0.033     -0.982      0.327      -0.097       0.032\n",
       "mnth_January                           -0.0628      0.034     -1.873      0.062      -0.129       0.003\n",
       "mnth_July                              -0.0404      0.035     -1.151      0.250      -0.109       0.029\n",
       "mnth_June                              -0.0030      0.025     -0.119      0.906      -0.052       0.046\n",
       "mnth_March                              0.0010      0.025      0.043      0.966      -0.047       0.049\n",
       "mnth_May                                0.0239      0.021      1.140      0.255      -0.017       0.065\n",
       "mnth_November                          -0.0419      0.036     -1.152      0.250      -0.113       0.030\n",
       "mnth_October                            0.0075      0.036      0.211      0.833      -0.063       0.078\n",
       "mnth_September                          0.0811      0.032      2.533      0.012       0.018       0.144\n",
       "weekday_Mon                             0.0985      0.013      7.300      0.000       0.072       0.125\n",
       "weekday_Sat                            -0.0038      0.015     -0.263      0.793      -0.033       0.025\n",
       "weekday_Sun                             0.0054      0.015      0.362      0.718      -0.024       0.035\n",
       "weekday_Thurs                          -0.0135      0.015     -0.917      0.359      -0.042       0.015\n",
       "weekday_Tues                            0.0440      0.014      3.213      0.001       0.017       0.071\n",
       "weekday_Wed                            -0.0155      0.015     -1.064      0.288      -0.044       0.013\n",
       "weathersit_cloudy_to_misty             -0.0611      0.010     -5.854      0.000      -0.082      -0.041\n",
       "weathersit_misty_to_light_rain_snow    -0.2574      0.026     -9.778      0.000      -0.309      -0.206\n",
       "==============================================================================\n",
       "Omnibus:                       84.475   Durbin-Watson:                   2.040\n",
       "Prob(Omnibus):                  0.000   Jarque-Bera (JB):              235.382\n",
       "Skew:                          -0.804   Prob(JB):                     7.72e-52\n",
       "Kurtosis:                       5.914   Cond. No.                     1.34e+16\n",
       "==============================================================================\n",
       "\n",
       "Notes:\n",
       "[1] Standard Errors assume that the covariance matrix of the errors is correctly specified.\n",
       "[2] The smallest eigenvalue is 8.81e-30. This might indicate that there are\n",
       "strong multicollinearity problems or that the design matrix is singular.\n",
       "\"\"\""
      ]
     },
     "execution_count": 28,
     "metadata": {},
     "output_type": "execute_result"
    }
   ],
   "source": [
    "# Adding the constant\n",
    "X_train_sm = sm.add_constant(X_train)\n",
    "# Using OLS method to fit the MLRM model\n",
    "model_1 = sm.OLS(y_train, X_train_sm).fit()\n",
    "# Checking the beta coefficient values of the variables\n",
    "model_1.params\n",
    "# Getting the significance of the model and variales\n",
    "model_1.summary()"
   ]
  },
  {
   "cell_type": "markdown",
   "metadata": {},
   "source": [
    "## Note:\n",
    "- the model has an adjusted R2 value of 84.5% which means that all the variables can explaing 84.5% variance of the target variable. It is pretty good model.\n",
    "- it is observed that the p value for a lot of variables is higher than 0.05 and hence ideally we should drop the insignificant variables.\n",
    "- Before dropping, Checking the VIF for these feature variabe because high p value combined with high VIF confirms the number of features that we can drop from this step"
   ]
  },
  {
   "cell_type": "markdown",
   "metadata": {},
   "source": [
    "### STEP 5:  Checking VIF"
   ]
  },
  {
   "cell_type": "code",
   "execution_count": 29,
   "metadata": {},
   "outputs": [
    {
     "data": {
      "text/html": [
       "<div>\n",
       "<style scoped>\n",
       "    .dataframe tbody tr th:only-of-type {\n",
       "        vertical-align: middle;\n",
       "    }\n",
       "\n",
       "    .dataframe tbody tr th {\n",
       "        vertical-align: top;\n",
       "    }\n",
       "\n",
       "    .dataframe thead th {\n",
       "        text-align: right;\n",
       "    }\n",
       "</style>\n",
       "<table border=\"1\" class=\"dataframe\">\n",
       "  <thead>\n",
       "    <tr style=\"text-align: right;\">\n",
       "      <th></th>\n",
       "      <th>Features</th>\n",
       "      <th>VIF</th>\n",
       "    </tr>\n",
       "  </thead>\n",
       "  <tbody>\n",
       "    <tr>\n",
       "      <th>2</th>\n",
       "      <td>workingday</td>\n",
       "      <td>86.81</td>\n",
       "    </tr>\n",
       "    <tr>\n",
       "      <th>20</th>\n",
       "      <td>weekday_Mon</td>\n",
       "      <td>19.72</td>\n",
       "    </tr>\n",
       "    <tr>\n",
       "      <th>24</th>\n",
       "      <td>weekday_Tues</td>\n",
       "      <td>18.35</td>\n",
       "    </tr>\n",
       "    <tr>\n",
       "      <th>6</th>\n",
       "      <td>season_spring</td>\n",
       "      <td>10.79</td>\n",
       "    </tr>\n",
       "    <tr>\n",
       "      <th>8</th>\n",
       "      <td>season_winter</td>\n",
       "      <td>9.50</td>\n",
       "    </tr>\n",
       "    <tr>\n",
       "      <th>7</th>\n",
       "      <td>season_summer</td>\n",
       "      <td>8.29</td>\n",
       "    </tr>\n",
       "    <tr>\n",
       "      <th>3</th>\n",
       "      <td>temp</td>\n",
       "      <td>7.12</td>\n",
       "    </tr>\n",
       "    <tr>\n",
       "      <th>17</th>\n",
       "      <td>mnth_November</td>\n",
       "      <td>6.80</td>\n",
       "    </tr>\n",
       "    <tr>\n",
       "      <th>18</th>\n",
       "      <td>mnth_October</td>\n",
       "      <td>6.59</td>\n",
       "    </tr>\n",
       "    <tr>\n",
       "      <th>9</th>\n",
       "      <td>mnth_August</td>\n",
       "      <td>6.43</td>\n",
       "    </tr>\n",
       "    <tr>\n",
       "      <th>12</th>\n",
       "      <td>mnth_January</td>\n",
       "      <td>5.90</td>\n",
       "    </tr>\n",
       "    <tr>\n",
       "      <th>10</th>\n",
       "      <td>mnth_December</td>\n",
       "      <td>5.68</td>\n",
       "    </tr>\n",
       "    <tr>\n",
       "      <th>13</th>\n",
       "      <td>mnth_July</td>\n",
       "      <td>5.66</td>\n",
       "    </tr>\n",
       "    <tr>\n",
       "      <th>19</th>\n",
       "      <td>mnth_September</td>\n",
       "      <td>4.94</td>\n",
       "    </tr>\n",
       "    <tr>\n",
       "      <th>1</th>\n",
       "      <td>holiday</td>\n",
       "      <td>4.59</td>\n",
       "    </tr>\n",
       "    <tr>\n",
       "      <th>11</th>\n",
       "      <td>mnth_February</td>\n",
       "      <td>4.39</td>\n",
       "    </tr>\n",
       "    <tr>\n",
       "      <th>15</th>\n",
       "      <td>mnth_March</td>\n",
       "      <td>3.47</td>\n",
       "    </tr>\n",
       "    <tr>\n",
       "      <th>14</th>\n",
       "      <td>mnth_June</td>\n",
       "      <td>2.83</td>\n",
       "    </tr>\n",
       "    <tr>\n",
       "      <th>16</th>\n",
       "      <td>mnth_May</td>\n",
       "      <td>2.22</td>\n",
       "    </tr>\n",
       "    <tr>\n",
       "      <th>4</th>\n",
       "      <td>hum</td>\n",
       "      <td>2.05</td>\n",
       "    </tr>\n",
       "    <tr>\n",
       "      <th>25</th>\n",
       "      <td>weekday_Wed</td>\n",
       "      <td>1.78</td>\n",
       "    </tr>\n",
       "    <tr>\n",
       "      <th>21</th>\n",
       "      <td>weekday_Sat</td>\n",
       "      <td>1.62</td>\n",
       "    </tr>\n",
       "    <tr>\n",
       "      <th>22</th>\n",
       "      <td>weekday_Sun</td>\n",
       "      <td>1.61</td>\n",
       "    </tr>\n",
       "    <tr>\n",
       "      <th>23</th>\n",
       "      <td>weekday_Thurs</td>\n",
       "      <td>1.61</td>\n",
       "    </tr>\n",
       "    <tr>\n",
       "      <th>26</th>\n",
       "      <td>weathersit_cloudy_to_misty</td>\n",
       "      <td>1.60</td>\n",
       "    </tr>\n",
       "    <tr>\n",
       "      <th>27</th>\n",
       "      <td>weathersit_misty_to_light_rain_snow</td>\n",
       "      <td>1.29</td>\n",
       "    </tr>\n",
       "    <tr>\n",
       "      <th>5</th>\n",
       "      <td>windspeed</td>\n",
       "      <td>1.24</td>\n",
       "    </tr>\n",
       "    <tr>\n",
       "      <th>0</th>\n",
       "      <td>yr</td>\n",
       "      <td>1.06</td>\n",
       "    </tr>\n",
       "  </tbody>\n",
       "</table>\n",
       "</div>"
      ],
      "text/plain": [
       "                               Features    VIF\n",
       "2                            workingday  86.81\n",
       "20                          weekday_Mon  19.72\n",
       "24                         weekday_Tues  18.35\n",
       "6                         season_spring  10.79\n",
       "8                         season_winter   9.50\n",
       "7                         season_summer   8.29\n",
       "3                                  temp   7.12\n",
       "17                        mnth_November   6.80\n",
       "18                         mnth_October   6.59\n",
       "9                           mnth_August   6.43\n",
       "12                         mnth_January   5.90\n",
       "10                        mnth_December   5.68\n",
       "13                            mnth_July   5.66\n",
       "19                       mnth_September   4.94\n",
       "1                               holiday   4.59\n",
       "11                        mnth_February   4.39\n",
       "15                           mnth_March   3.47\n",
       "14                            mnth_June   2.83\n",
       "16                             mnth_May   2.22\n",
       "4                                   hum   2.05\n",
       "25                          weekday_Wed   1.78\n",
       "21                          weekday_Sat   1.62\n",
       "22                          weekday_Sun   1.61\n",
       "23                        weekday_Thurs   1.61\n",
       "26           weathersit_cloudy_to_misty   1.60\n",
       "27  weathersit_misty_to_light_rain_snow   1.29\n",
       "5                             windspeed   1.24\n",
       "0                                    yr   1.06"
      ]
     },
     "execution_count": 29,
     "metadata": {},
     "output_type": "execute_result"
    }
   ],
   "source": [
    "vif = pd.DataFrame()\n",
    "vif['Features'] = X_train.columns\n",
    "vif['VIF'] = [variance_inflation_factor(X_train.values, i) for i in range(X_train.shape[1])]\n",
    "vif['VIF'] = round(vif['VIF'], 2)\n",
    "vif = vif.sort_values(by = \"VIF\", ascending = False)\n",
    "vif"
   ]
  },
  {
   "cell_type": "markdown",
   "metadata": {},
   "source": [
    "ideally we should Drop the variables with high pvalue and high vif and then re run the model and drop accordingly in the below order:\n",
    "1.high pvalue and high vif\n",
    "2.high pvalue and low vif\n",
    "3.low pvalue and high vif\n",
    "\n",
    "and then finally keep:\n",
    "4.low pvalue and low vif and finalize.\n",
    "\n",
    "But it is cumbersome process to manually do these. hence going forward with RFE technique\n",
    "    \n"
   ]
  },
  {
   "cell_type": "markdown",
   "metadata": {},
   "source": [
    "### Step 6: using RFE to select features in a automated fashion"
   ]
  },
  {
   "cell_type": "code",
   "execution_count": 30,
   "metadata": {},
   "outputs": [
    {
     "data": {
      "text/plain": [
       "RFE(estimator=LinearRegression(), n_features_to_select=10)"
      ]
     },
     "execution_count": 30,
     "metadata": {},
     "output_type": "execute_result"
    },
    {
     "name": "stdout",
     "output_type": "stream",
     "text": [
      "[ True  True False  True  True  True  True False  True False False False\n",
      " False  True False False False False False  True False False False False\n",
      " False False False  True]\n",
      "[ 1  1  5  1  1  1  1  3  1 11  8  9  6  1 18 19 10  7 15  1  4 17 16 14\n",
      " 12 13  2  1]\n"
     ]
    },
    {
     "data": {
      "text/plain": [
       "RFE(estimator=LinearRegression(), n_features_to_select=15)"
      ]
     },
     "execution_count": 30,
     "metadata": {},
     "output_type": "execute_result"
    },
    {
     "name": "stdout",
     "output_type": "stream",
     "text": [
      "[ True  True  True  True  True  True  True  True  True False False False\n",
      "  True  True False False False False False  True  True False False False\n",
      " False False  True  True]\n",
      "[ 1  1  1  1  1  1  1  1  1  6  3  4  1  1 13 14  5  2 10  1  1 12 11  9\n",
      "  7  8  1  1]\n"
     ]
    }
   ],
   "source": [
    "# RFE with 10 features\n",
    "LR = LinearRegression()\n",
    "RFE_1 = RFE(LR, 10)\n",
    "# Fit with 10 features\n",
    "RFE_1.fit(X_train, y_train)\n",
    "\n",
    "print(RFE_1.support_)           \n",
    "print(RFE_1.ranking_) \n",
    "\n",
    "\n",
    "# RFE with 15 features\n",
    "LR = LinearRegression()\n",
    "RFE_2 = RFE(LR, 15)\n",
    "# Fit with 15 features\n",
    "RFE_2.fit(X_train, y_train)\n",
    "\n",
    "print(RFE_2.support_)           \n",
    "print(RFE_2.ranking_) "
   ]
  },
  {
   "cell_type": "markdown",
   "metadata": {},
   "source": [
    "As RFE technique does not give detailed summary, hence using statsmodel to evaluate the models RFE_1 and RFE_2"
   ]
  },
  {
   "cell_type": "code",
   "execution_count": 31,
   "metadata": {},
   "outputs": [
    {
     "data": {
      "text/html": [
       "<div>\n",
       "<style scoped>\n",
       "    .dataframe tbody tr th:only-of-type {\n",
       "        vertical-align: middle;\n",
       "    }\n",
       "\n",
       "    .dataframe tbody tr th {\n",
       "        vertical-align: top;\n",
       "    }\n",
       "\n",
       "    .dataframe thead th {\n",
       "        text-align: right;\n",
       "    }\n",
       "</style>\n",
       "<table border=\"1\" class=\"dataframe\">\n",
       "  <thead>\n",
       "    <tr style=\"text-align: right;\">\n",
       "      <th></th>\n",
       "      <th>const</th>\n",
       "      <th>yr</th>\n",
       "      <th>holiday</th>\n",
       "      <th>temp</th>\n",
       "      <th>hum</th>\n",
       "      <th>windspeed</th>\n",
       "      <th>season_spring</th>\n",
       "      <th>season_winter</th>\n",
       "      <th>mnth_July</th>\n",
       "      <th>mnth_September</th>\n",
       "      <th>weathersit_misty_to_light_rain_snow</th>\n",
       "    </tr>\n",
       "  </thead>\n",
       "  <tbody>\n",
       "    <tr>\n",
       "      <th>653</th>\n",
       "      <td>1.0</td>\n",
       "      <td>1</td>\n",
       "      <td>0</td>\n",
       "      <td>0.509887</td>\n",
       "      <td>0.575354</td>\n",
       "      <td>0.300794</td>\n",
       "      <td>0</td>\n",
       "      <td>1</td>\n",
       "      <td>0</td>\n",
       "      <td>0</td>\n",
       "      <td>0</td>\n",
       "    </tr>\n",
       "    <tr>\n",
       "      <th>576</th>\n",
       "      <td>1.0</td>\n",
       "      <td>1</td>\n",
       "      <td>0</td>\n",
       "      <td>0.815169</td>\n",
       "      <td>0.725633</td>\n",
       "      <td>0.264686</td>\n",
       "      <td>0</td>\n",
       "      <td>0</td>\n",
       "      <td>1</td>\n",
       "      <td>0</td>\n",
       "      <td>0</td>\n",
       "    </tr>\n",
       "    <tr>\n",
       "      <th>426</th>\n",
       "      <td>1.0</td>\n",
       "      <td>1</td>\n",
       "      <td>0</td>\n",
       "      <td>0.442393</td>\n",
       "      <td>0.640189</td>\n",
       "      <td>0.255342</td>\n",
       "      <td>1</td>\n",
       "      <td>0</td>\n",
       "      <td>0</td>\n",
       "      <td>0</td>\n",
       "      <td>0</td>\n",
       "    </tr>\n",
       "    <tr>\n",
       "      <th>728</th>\n",
       "      <td>1.0</td>\n",
       "      <td>1</td>\n",
       "      <td>0</td>\n",
       "      <td>0.245101</td>\n",
       "      <td>0.498067</td>\n",
       "      <td>0.663106</td>\n",
       "      <td>1</td>\n",
       "      <td>0</td>\n",
       "      <td>0</td>\n",
       "      <td>0</td>\n",
       "      <td>0</td>\n",
       "    </tr>\n",
       "    <tr>\n",
       "      <th>482</th>\n",
       "      <td>1.0</td>\n",
       "      <td>1</td>\n",
       "      <td>0</td>\n",
       "      <td>0.395666</td>\n",
       "      <td>0.504508</td>\n",
       "      <td>0.188475</td>\n",
       "      <td>0</td>\n",
       "      <td>0</td>\n",
       "      <td>0</td>\n",
       "      <td>0</td>\n",
       "      <td>0</td>\n",
       "    </tr>\n",
       "  </tbody>\n",
       "</table>\n",
       "</div>"
      ],
      "text/plain": [
       "     const  yr  holiday      temp       hum  windspeed  season_spring  \\\n",
       "653    1.0   1        0  0.509887  0.575354   0.300794              0   \n",
       "576    1.0   1        0  0.815169  0.725633   0.264686              0   \n",
       "426    1.0   1        0  0.442393  0.640189   0.255342              1   \n",
       "728    1.0   1        0  0.245101  0.498067   0.663106              1   \n",
       "482    1.0   1        0  0.395666  0.504508   0.188475              0   \n",
       "\n",
       "     season_winter  mnth_July  mnth_September  \\\n",
       "653              1          0               0   \n",
       "576              0          1               0   \n",
       "426              0          0               0   \n",
       "728              0          0               0   \n",
       "482              0          0               0   \n",
       "\n",
       "     weathersit_misty_to_light_rain_snow  \n",
       "653                                    0  \n",
       "576                                    0  \n",
       "426                                    0  \n",
       "728                                    0  \n",
       "482                                    0  "
      ]
     },
     "execution_count": 31,
     "metadata": {},
     "output_type": "execute_result"
    }
   ],
   "source": [
    "##### RFE_1\n",
    "# Subset the features selected by RFE_1\n",
    "Col_RFE_1 = X_train.columns[RFE_1.support_]\n",
    "\n",
    "# Subsetting training data for 15 selected columns\n",
    "X_train_RFE_1 = X_train[Col_RFE_1]\n",
    "\n",
    "# Add a constant to the model\n",
    "X_train_RFE_1 = sm.add_constant(X_train_RFE_1)\n",
    "X_train_RFE_1.head()"
   ]
  },
  {
   "cell_type": "code",
   "execution_count": 32,
   "metadata": {},
   "outputs": [
    {
     "name": "stdout",
     "output_type": "stream",
     "text": [
      "                            OLS Regression Results                            \n",
      "==============================================================================\n",
      "Dep. Variable:                    cnt   R-squared:                       0.830\n",
      "Model:                            OLS   Adj. R-squared:                  0.826\n",
      "Method:                 Least Squares   F-statistic:                     242.9\n",
      "Date:                Wed, 15 Dec 2021   Prob (F-statistic):          1.53e-184\n",
      "Time:                        15:14:53   Log-Likelihood:                 489.69\n",
      "No. Observations:                 510   AIC:                            -957.4\n",
      "Df Residuals:                     499   BIC:                            -910.8\n",
      "Df Model:                          10                                         \n",
      "Covariance Type:            nonrobust                                         \n",
      "=======================================================================================================\n",
      "                                          coef    std err          t      P>|t|      [0.025      0.975]\n",
      "-------------------------------------------------------------------------------------------------------\n",
      "const                                   0.3769      0.031     12.133      0.000       0.316       0.438\n",
      "yr                                      0.2281      0.008     27.102      0.000       0.212       0.245\n",
      "holiday                                -0.0920      0.026     -3.472      0.001      -0.144      -0.040\n",
      "temp                                    0.5147      0.031     16.542      0.000       0.454       0.576\n",
      "hum                                    -0.2728      0.032     -8.542      0.000      -0.336      -0.210\n",
      "windspeed                              -0.1887      0.026     -7.194      0.000      -0.240      -0.137\n",
      "season_spring                          -0.1005      0.015     -6.536      0.000      -0.131      -0.070\n",
      "season_winter                           0.0653      0.013      5.153      0.000       0.040       0.090\n",
      "mnth_July                              -0.0805      0.018     -4.538      0.000      -0.115      -0.046\n",
      "mnth_September                          0.0598      0.016      3.723      0.000       0.028       0.091\n",
      "weathersit_misty_to_light_rain_snow    -0.1980      0.026     -7.659      0.000      -0.249      -0.147\n",
      "==============================================================================\n",
      "Omnibus:                       51.023   Durbin-Watson:                   1.968\n",
      "Prob(Omnibus):                  0.000   Jarque-Bera (JB):              100.492\n",
      "Skew:                          -0.593   Prob(JB):                     1.51e-22\n",
      "Kurtosis:                       4.823   Cond. No.                         16.3\n",
      "==============================================================================\n",
      "\n",
      "Notes:\n",
      "[1] Standard Errors assume that the covariance matrix of the errors is correctly specified.\n"
     ]
    }
   ],
   "source": [
    "# Fitting the model with 10 variables\n",
    "Model_10var = sm.OLS(y_train, X_train_RFE_1).fit()   \n",
    "print(Model_10var.summary())"
   ]
  },
  {
   "cell_type": "code",
   "execution_count": 33,
   "metadata": {},
   "outputs": [
    {
     "data": {
      "text/html": [
       "<div>\n",
       "<style scoped>\n",
       "    .dataframe tbody tr th:only-of-type {\n",
       "        vertical-align: middle;\n",
       "    }\n",
       "\n",
       "    .dataframe tbody tr th {\n",
       "        vertical-align: top;\n",
       "    }\n",
       "\n",
       "    .dataframe thead th {\n",
       "        text-align: right;\n",
       "    }\n",
       "</style>\n",
       "<table border=\"1\" class=\"dataframe\">\n",
       "  <thead>\n",
       "    <tr style=\"text-align: right;\">\n",
       "      <th></th>\n",
       "      <th>const</th>\n",
       "      <th>yr</th>\n",
       "      <th>holiday</th>\n",
       "      <th>workingday</th>\n",
       "      <th>temp</th>\n",
       "      <th>hum</th>\n",
       "      <th>windspeed</th>\n",
       "      <th>season_spring</th>\n",
       "      <th>season_summer</th>\n",
       "      <th>season_winter</th>\n",
       "      <th>mnth_January</th>\n",
       "      <th>mnth_July</th>\n",
       "      <th>mnth_September</th>\n",
       "      <th>weekday_Mon</th>\n",
       "      <th>weathersit_cloudy_to_misty</th>\n",
       "      <th>weathersit_misty_to_light_rain_snow</th>\n",
       "    </tr>\n",
       "  </thead>\n",
       "  <tbody>\n",
       "    <tr>\n",
       "      <th>653</th>\n",
       "      <td>1.0</td>\n",
       "      <td>1</td>\n",
       "      <td>0</td>\n",
       "      <td>1</td>\n",
       "      <td>0.509887</td>\n",
       "      <td>0.575354</td>\n",
       "      <td>0.300794</td>\n",
       "      <td>0</td>\n",
       "      <td>0</td>\n",
       "      <td>1</td>\n",
       "      <td>0</td>\n",
       "      <td>0</td>\n",
       "      <td>0</td>\n",
       "      <td>0</td>\n",
       "      <td>0</td>\n",
       "      <td>0</td>\n",
       "    </tr>\n",
       "    <tr>\n",
       "      <th>576</th>\n",
       "      <td>1.0</td>\n",
       "      <td>1</td>\n",
       "      <td>0</td>\n",
       "      <td>1</td>\n",
       "      <td>0.815169</td>\n",
       "      <td>0.725633</td>\n",
       "      <td>0.264686</td>\n",
       "      <td>0</td>\n",
       "      <td>0</td>\n",
       "      <td>0</td>\n",
       "      <td>0</td>\n",
       "      <td>1</td>\n",
       "      <td>0</td>\n",
       "      <td>0</td>\n",
       "      <td>0</td>\n",
       "      <td>0</td>\n",
       "    </tr>\n",
       "    <tr>\n",
       "      <th>426</th>\n",
       "      <td>1.0</td>\n",
       "      <td>1</td>\n",
       "      <td>0</td>\n",
       "      <td>0</td>\n",
       "      <td>0.442393</td>\n",
       "      <td>0.640189</td>\n",
       "      <td>0.255342</td>\n",
       "      <td>1</td>\n",
       "      <td>0</td>\n",
       "      <td>0</td>\n",
       "      <td>0</td>\n",
       "      <td>0</td>\n",
       "      <td>0</td>\n",
       "      <td>1</td>\n",
       "      <td>1</td>\n",
       "      <td>0</td>\n",
       "    </tr>\n",
       "    <tr>\n",
       "      <th>728</th>\n",
       "      <td>1.0</td>\n",
       "      <td>1</td>\n",
       "      <td>0</td>\n",
       "      <td>0</td>\n",
       "      <td>0.245101</td>\n",
       "      <td>0.498067</td>\n",
       "      <td>0.663106</td>\n",
       "      <td>1</td>\n",
       "      <td>0</td>\n",
       "      <td>0</td>\n",
       "      <td>0</td>\n",
       "      <td>0</td>\n",
       "      <td>0</td>\n",
       "      <td>0</td>\n",
       "      <td>0</td>\n",
       "      <td>0</td>\n",
       "    </tr>\n",
       "    <tr>\n",
       "      <th>482</th>\n",
       "      <td>1.0</td>\n",
       "      <td>1</td>\n",
       "      <td>0</td>\n",
       "      <td>0</td>\n",
       "      <td>0.395666</td>\n",
       "      <td>0.504508</td>\n",
       "      <td>0.188475</td>\n",
       "      <td>0</td>\n",
       "      <td>1</td>\n",
       "      <td>0</td>\n",
       "      <td>0</td>\n",
       "      <td>0</td>\n",
       "      <td>0</td>\n",
       "      <td>1</td>\n",
       "      <td>1</td>\n",
       "      <td>0</td>\n",
       "    </tr>\n",
       "  </tbody>\n",
       "</table>\n",
       "</div>"
      ],
      "text/plain": [
       "     const  yr  holiday  workingday      temp       hum  windspeed  \\\n",
       "653    1.0   1        0           1  0.509887  0.575354   0.300794   \n",
       "576    1.0   1        0           1  0.815169  0.725633   0.264686   \n",
       "426    1.0   1        0           0  0.442393  0.640189   0.255342   \n",
       "728    1.0   1        0           0  0.245101  0.498067   0.663106   \n",
       "482    1.0   1        0           0  0.395666  0.504508   0.188475   \n",
       "\n",
       "     season_spring  season_summer  season_winter  mnth_January  mnth_July  \\\n",
       "653              0              0              1             0          0   \n",
       "576              0              0              0             0          1   \n",
       "426              1              0              0             0          0   \n",
       "728              1              0              0             0          0   \n",
       "482              0              1              0             0          0   \n",
       "\n",
       "     mnth_September  weekday_Mon  weathersit_cloudy_to_misty  \\\n",
       "653               0            0                           0   \n",
       "576               0            0                           0   \n",
       "426               0            1                           1   \n",
       "728               0            0                           0   \n",
       "482               0            1                           1   \n",
       "\n",
       "     weathersit_misty_to_light_rain_snow  \n",
       "653                                    0  \n",
       "576                                    0  \n",
       "426                                    0  \n",
       "728                                    0  \n",
       "482                                    0  "
      ]
     },
     "execution_count": 33,
     "metadata": {},
     "output_type": "execute_result"
    }
   ],
   "source": [
    "##### RFE_2\n",
    "# Subset the features selected by RFE_2\n",
    "Col_RFE_2 = X_train.columns[RFE_2.support_]\n",
    "\n",
    "# Subsetting training data for 15 selected columns\n",
    "X_train_RFE_2 = X_train[Col_RFE_2]\n",
    "\n",
    "# Add a constant to the model\n",
    "X_train_RFE_2 = sm.add_constant(X_train_RFE_2)\n",
    "X_train_RFE_2.head()"
   ]
  },
  {
   "cell_type": "markdown",
   "metadata": {},
   "source": [
    "Note: the new model with 10 variables have very low dip in accuracy i.e. 82.6% wimth the model with all the variables i.e 84.5%."
   ]
  },
  {
   "cell_type": "code",
   "execution_count": 34,
   "metadata": {},
   "outputs": [
    {
     "name": "stdout",
     "output_type": "stream",
     "text": [
      "                            OLS Regression Results                            \n",
      "==============================================================================\n",
      "Dep. Variable:                    cnt   R-squared:                       0.849\n",
      "Model:                            OLS   Adj. R-squared:                  0.844\n",
      "Method:                 Least Squares   F-statistic:                     184.6\n",
      "Date:                Wed, 15 Dec 2021   Prob (F-statistic):          2.31e-191\n",
      "Time:                        15:14:53   Log-Likelihood:                 519.88\n",
      "No. Observations:                 510   AIC:                            -1008.\n",
      "Df Residuals:                     494   BIC:                            -940.0\n",
      "Df Model:                          15                                         \n",
      "Covariance Type:            nonrobust                                         \n",
      "=======================================================================================================\n",
      "                                          coef    std err          t      P>|t|      [0.025      0.975]\n",
      "-------------------------------------------------------------------------------------------------------\n",
      "const                                   0.2510      0.036      6.949      0.000       0.180       0.322\n",
      "yr                                      0.2305      0.008     28.807      0.000       0.215       0.246\n",
      "holiday                                -0.0585      0.027     -2.178      0.030      -0.111      -0.006\n",
      "workingday                              0.0435      0.012      3.781      0.000       0.021       0.066\n",
      "temp                                    0.5098      0.034     14.851      0.000       0.442       0.577\n",
      "hum                                    -0.1547      0.037     -4.145      0.000      -0.228      -0.081\n",
      "windspeed                              -0.1860      0.025     -7.301      0.000      -0.236      -0.136\n",
      "season_spring                          -0.0508      0.021     -2.461      0.014      -0.091      -0.010\n",
      "season_summer                           0.0497      0.015      3.346      0.001       0.020       0.079\n",
      "season_winter                           0.0944      0.017      5.479      0.000       0.061       0.128\n",
      "mnth_January                           -0.0343      0.017     -1.980      0.048      -0.068      -0.000\n",
      "mnth_July                              -0.0532      0.018     -2.947      0.003      -0.089      -0.018\n",
      "mnth_September                          0.0812      0.016      4.934      0.000       0.049       0.114\n",
      "weekday_Mon                             0.0537      0.014      3.707      0.000       0.025       0.082\n",
      "weathersit_cloudy_to_misty             -0.0578      0.010     -5.574      0.000      -0.078      -0.037\n",
      "weathersit_misty_to_light_rain_snow    -0.2488      0.026     -9.560      0.000      -0.300      -0.198\n",
      "==============================================================================\n",
      "Omnibus:                       66.344   Durbin-Watson:                   2.071\n",
      "Prob(Omnibus):                  0.000   Jarque-Bera (JB):              161.565\n",
      "Skew:                          -0.676   Prob(JB):                     8.25e-36\n",
      "Kurtosis:                       5.403   Cond. No.                         22.1\n",
      "==============================================================================\n",
      "\n",
      "Notes:\n",
      "[1] Standard Errors assume that the covariance matrix of the errors is correctly specified.\n"
     ]
    }
   ],
   "source": [
    "# Fitting the model with 15 variables\n",
    "Model_15var = sm.OLS(y_train, X_train_RFE_2).fit()   \n",
    "print(Model_15var.summary())"
   ]
  },
  {
   "cell_type": "markdown",
   "metadata": {},
   "source": [
    "Note: the new model with 15 variables have very similar accuracy of 84.4% with the model with all the variables i.e 84.5%."
   ]
  },
  {
   "cell_type": "markdown",
   "metadata": {},
   "source": [
    "### STEP 7:  Checked VIF again and dropped features with high VIF"
   ]
  },
  {
   "cell_type": "code",
   "execution_count": 35,
   "metadata": {},
   "outputs": [
    {
     "data": {
      "text/html": [
       "<div>\n",
       "<style scoped>\n",
       "    .dataframe tbody tr th:only-of-type {\n",
       "        vertical-align: middle;\n",
       "    }\n",
       "\n",
       "    .dataframe tbody tr th {\n",
       "        vertical-align: top;\n",
       "    }\n",
       "\n",
       "    .dataframe thead th {\n",
       "        text-align: right;\n",
       "    }\n",
       "</style>\n",
       "<table border=\"1\" class=\"dataframe\">\n",
       "  <thead>\n",
       "    <tr style=\"text-align: right;\">\n",
       "      <th></th>\n",
       "      <th>Features</th>\n",
       "      <th>VIF</th>\n",
       "    </tr>\n",
       "  </thead>\n",
       "  <tbody>\n",
       "    <tr>\n",
       "      <th>4</th>\n",
       "      <td>hum</td>\n",
       "      <td>29.40</td>\n",
       "    </tr>\n",
       "    <tr>\n",
       "      <th>3</th>\n",
       "      <td>temp</td>\n",
       "      <td>17.77</td>\n",
       "    </tr>\n",
       "    <tr>\n",
       "      <th>2</th>\n",
       "      <td>workingday</td>\n",
       "      <td>5.31</td>\n",
       "    </tr>\n",
       "    <tr>\n",
       "      <th>5</th>\n",
       "      <td>windspeed</td>\n",
       "      <td>4.73</td>\n",
       "    </tr>\n",
       "    <tr>\n",
       "      <th>6</th>\n",
       "      <td>season_spring</td>\n",
       "      <td>4.53</td>\n",
       "    </tr>\n",
       "    <tr>\n",
       "      <th>8</th>\n",
       "      <td>season_winter</td>\n",
       "      <td>3.48</td>\n",
       "    </tr>\n",
       "    <tr>\n",
       "      <th>7</th>\n",
       "      <td>season_summer</td>\n",
       "      <td>2.84</td>\n",
       "    </tr>\n",
       "    <tr>\n",
       "      <th>13</th>\n",
       "      <td>weathersit_cloudy_to_misty</td>\n",
       "      <td>2.29</td>\n",
       "    </tr>\n",
       "    <tr>\n",
       "      <th>0</th>\n",
       "      <td>yr</td>\n",
       "      <td>2.09</td>\n",
       "    </tr>\n",
       "    <tr>\n",
       "      <th>12</th>\n",
       "      <td>weekday_Mon</td>\n",
       "      <td>1.98</td>\n",
       "    </tr>\n",
       "    <tr>\n",
       "      <th>9</th>\n",
       "      <td>mnth_January</td>\n",
       "      <td>1.67</td>\n",
       "    </tr>\n",
       "    <tr>\n",
       "      <th>10</th>\n",
       "      <td>mnth_July</td>\n",
       "      <td>1.59</td>\n",
       "    </tr>\n",
       "    <tr>\n",
       "      <th>11</th>\n",
       "      <td>mnth_September</td>\n",
       "      <td>1.39</td>\n",
       "    </tr>\n",
       "    <tr>\n",
       "      <th>14</th>\n",
       "      <td>weathersit_misty_to_light_rain_snow</td>\n",
       "      <td>1.25</td>\n",
       "    </tr>\n",
       "    <tr>\n",
       "      <th>1</th>\n",
       "      <td>holiday</td>\n",
       "      <td>1.18</td>\n",
       "    </tr>\n",
       "  </tbody>\n",
       "</table>\n",
       "</div>"
      ],
      "text/plain": [
       "                               Features    VIF\n",
       "4                                   hum  29.40\n",
       "3                                  temp  17.77\n",
       "2                            workingday   5.31\n",
       "5                             windspeed   4.73\n",
       "6                         season_spring   4.53\n",
       "8                         season_winter   3.48\n",
       "7                         season_summer   2.84\n",
       "13           weathersit_cloudy_to_misty   2.29\n",
       "0                                    yr   2.09\n",
       "12                          weekday_Mon   1.98\n",
       "9                          mnth_January   1.67\n",
       "10                            mnth_July   1.59\n",
       "11                       mnth_September   1.39\n",
       "14  weathersit_misty_to_light_rain_snow   1.25\n",
       "1                               holiday   1.18"
      ]
     },
     "execution_count": 35,
     "metadata": {},
     "output_type": "execute_result"
    }
   ],
   "source": [
    "RFE_2_features=X_train_RFE_2.drop('const',axis=1)\n",
    "vif = pd.DataFrame()\n",
    "vif['Features'] = RFE_2_features.columns\n",
    "vif['VIF'] = [variance_inflation_factor(RFE_2_features.values, i) for i in range(RFE_2_features.shape[1])]\n",
    "vif['VIF'] = round(vif['VIF'], 2)\n",
    "vif = vif.sort_values(by = \"VIF\", ascending = False)\n",
    "vif"
   ]
  },
  {
   "cell_type": "code",
   "execution_count": 36,
   "metadata": {},
   "outputs": [
    {
     "data": {
      "text/html": [
       "<div>\n",
       "<style scoped>\n",
       "    .dataframe tbody tr th:only-of-type {\n",
       "        vertical-align: middle;\n",
       "    }\n",
       "\n",
       "    .dataframe tbody tr th {\n",
       "        vertical-align: top;\n",
       "    }\n",
       "\n",
       "    .dataframe thead th {\n",
       "        text-align: right;\n",
       "    }\n",
       "</style>\n",
       "<table border=\"1\" class=\"dataframe\">\n",
       "  <thead>\n",
       "    <tr style=\"text-align: right;\">\n",
       "      <th></th>\n",
       "      <th>Features</th>\n",
       "      <th>VIF</th>\n",
       "    </tr>\n",
       "  </thead>\n",
       "  <tbody>\n",
       "    <tr>\n",
       "      <th>3</th>\n",
       "      <td>hum</td>\n",
       "      <td>15.18</td>\n",
       "    </tr>\n",
       "    <tr>\n",
       "      <th>2</th>\n",
       "      <td>temp</td>\n",
       "      <td>13.09</td>\n",
       "    </tr>\n",
       "    <tr>\n",
       "      <th>4</th>\n",
       "      <td>windspeed</td>\n",
       "      <td>4.02</td>\n",
       "    </tr>\n",
       "    <tr>\n",
       "      <th>5</th>\n",
       "      <td>season_spring</td>\n",
       "      <td>2.40</td>\n",
       "    </tr>\n",
       "    <tr>\n",
       "      <th>0</th>\n",
       "      <td>yr</td>\n",
       "      <td>2.06</td>\n",
       "    </tr>\n",
       "    <tr>\n",
       "      <th>6</th>\n",
       "      <td>season_winter</td>\n",
       "      <td>1.98</td>\n",
       "    </tr>\n",
       "    <tr>\n",
       "      <th>7</th>\n",
       "      <td>mnth_July</td>\n",
       "      <td>1.40</td>\n",
       "    </tr>\n",
       "    <tr>\n",
       "      <th>8</th>\n",
       "      <td>mnth_September</td>\n",
       "      <td>1.20</td>\n",
       "    </tr>\n",
       "    <tr>\n",
       "      <th>9</th>\n",
       "      <td>weathersit_misty_to_light_rain_snow</td>\n",
       "      <td>1.11</td>\n",
       "    </tr>\n",
       "    <tr>\n",
       "      <th>1</th>\n",
       "      <td>holiday</td>\n",
       "      <td>1.04</td>\n",
       "    </tr>\n",
       "  </tbody>\n",
       "</table>\n",
       "</div>"
      ],
      "text/plain": [
       "                              Features    VIF\n",
       "3                                  hum  15.18\n",
       "2                                 temp  13.09\n",
       "4                            windspeed   4.02\n",
       "5                        season_spring   2.40\n",
       "0                                   yr   2.06\n",
       "6                        season_winter   1.98\n",
       "7                            mnth_July   1.40\n",
       "8                       mnth_September   1.20\n",
       "9  weathersit_misty_to_light_rain_snow   1.11\n",
       "1                              holiday   1.04"
      ]
     },
     "execution_count": 36,
     "metadata": {},
     "output_type": "execute_result"
    }
   ],
   "source": [
    "RFE_1_features=X_train_RFE_1.drop('const',axis=1)\n",
    "vif = pd.DataFrame()\n",
    "vif['Features'] = RFE_1_features.columns\n",
    "vif['VIF'] = [variance_inflation_factor(RFE_1_features.values, i) for i in range(RFE_1_features.shape[1])]\n",
    "vif['VIF'] = round(vif['VIF'], 2)\n",
    "vif = vif.sort_values(by = \"VIF\", ascending = False)\n",
    "vif"
   ]
  },
  {
   "cell_type": "markdown",
   "metadata": {},
   "source": [
    "##### So it is observed that all the variables are significant that is p value is less than 0.05 for the model RFE_1 i.e with 10 variables.\n",
    "But VIF is high, so starting with dropping variabe 'hum'"
   ]
  },
  {
   "cell_type": "code",
   "execution_count": 37,
   "metadata": {},
   "outputs": [
    {
     "data": {
      "text/html": [
       "<div>\n",
       "<style scoped>\n",
       "    .dataframe tbody tr th:only-of-type {\n",
       "        vertical-align: middle;\n",
       "    }\n",
       "\n",
       "    .dataframe tbody tr th {\n",
       "        vertical-align: top;\n",
       "    }\n",
       "\n",
       "    .dataframe thead th {\n",
       "        text-align: right;\n",
       "    }\n",
       "</style>\n",
       "<table border=\"1\" class=\"dataframe\">\n",
       "  <thead>\n",
       "    <tr style=\"text-align: right;\">\n",
       "      <th></th>\n",
       "      <th>const</th>\n",
       "      <th>yr</th>\n",
       "      <th>holiday</th>\n",
       "      <th>temp</th>\n",
       "      <th>windspeed</th>\n",
       "      <th>season_spring</th>\n",
       "      <th>season_winter</th>\n",
       "      <th>mnth_July</th>\n",
       "      <th>mnth_September</th>\n",
       "      <th>weathersit_misty_to_light_rain_snow</th>\n",
       "    </tr>\n",
       "  </thead>\n",
       "  <tbody>\n",
       "    <tr>\n",
       "      <th>653</th>\n",
       "      <td>1.0</td>\n",
       "      <td>1</td>\n",
       "      <td>0</td>\n",
       "      <td>0.509887</td>\n",
       "      <td>0.300794</td>\n",
       "      <td>0</td>\n",
       "      <td>1</td>\n",
       "      <td>0</td>\n",
       "      <td>0</td>\n",
       "      <td>0</td>\n",
       "    </tr>\n",
       "    <tr>\n",
       "      <th>576</th>\n",
       "      <td>1.0</td>\n",
       "      <td>1</td>\n",
       "      <td>0</td>\n",
       "      <td>0.815169</td>\n",
       "      <td>0.264686</td>\n",
       "      <td>0</td>\n",
       "      <td>0</td>\n",
       "      <td>1</td>\n",
       "      <td>0</td>\n",
       "      <td>0</td>\n",
       "    </tr>\n",
       "  </tbody>\n",
       "</table>\n",
       "</div>"
      ],
      "text/plain": [
       "     const  yr  holiday      temp  windspeed  season_spring  season_winter  \\\n",
       "653    1.0   1        0  0.509887   0.300794              0              1   \n",
       "576    1.0   1        0  0.815169   0.264686              0              0   \n",
       "\n",
       "     mnth_July  mnth_September  weathersit_misty_to_light_rain_snow  \n",
       "653          0               0                                    0  \n",
       "576          1               0                                    0  "
      ]
     },
     "execution_count": 37,
     "metadata": {},
     "output_type": "execute_result"
    }
   ],
   "source": [
    "X_train_RFE_1=X_train_RFE_1.drop(\"hum\",axis=1)\n",
    "X_train_RFE_1.head(2)"
   ]
  },
  {
   "cell_type": "code",
   "execution_count": 38,
   "metadata": {},
   "outputs": [
    {
     "name": "stdout",
     "output_type": "stream",
     "text": [
      "                            OLS Regression Results                            \n",
      "==============================================================================\n",
      "Dep. Variable:                    cnt   R-squared:                       0.805\n",
      "Model:                            OLS   Adj. R-squared:                  0.801\n",
      "Method:                 Least Squares   F-statistic:                     228.8\n",
      "Date:                Wed, 15 Dec 2021   Prob (F-statistic):          5.33e-171\n",
      "Time:                        15:14:53   Log-Likelihood:                 454.89\n",
      "No. Observations:                 510   AIC:                            -889.8\n",
      "Df Residuals:                     500   BIC:                            -847.4\n",
      "Df Model:                           9                                         \n",
      "Covariance Type:            nonrobust                                         \n",
      "=======================================================================================================\n",
      "                                          coef    std err          t      P>|t|      [0.025      0.975]\n",
      "-------------------------------------------------------------------------------------------------------\n",
      "const                                   0.2042      0.025      8.095      0.000       0.155       0.254\n",
      "yr                                      0.2350      0.009     26.233      0.000       0.217       0.253\n",
      "holiday                                -0.0862      0.028     -3.041      0.002      -0.142      -0.030\n",
      "temp                                    0.4758      0.033     14.453      0.000       0.411       0.540\n",
      "windspeed                              -0.1325      0.027     -4.879      0.000      -0.186      -0.079\n",
      "season_spring                          -0.1032      0.016     -6.274      0.000      -0.136      -0.071\n",
      "season_winter                           0.0504      0.013      3.754      0.000       0.024       0.077\n",
      "mnth_July                              -0.0616      0.019     -3.272      0.001      -0.099      -0.025\n",
      "mnth_September                          0.0498      0.017      2.911      0.004       0.016       0.083\n",
      "weathersit_misty_to_light_rain_snow    -0.2562      0.027     -9.608      0.000      -0.309      -0.204\n",
      "==============================================================================\n",
      "Omnibus:                       62.894   Durbin-Watson:                   1.933\n",
      "Prob(Omnibus):                  0.000   Jarque-Bera (JB):              116.633\n",
      "Skew:                          -0.736   Prob(JB):                     4.71e-26\n",
      "Kurtosis:                       4.823   Cond. No.                         13.4\n",
      "==============================================================================\n",
      "\n",
      "Notes:\n",
      "[1] Standard Errors assume that the covariance matrix of the errors is correctly specified.\n"
     ]
    }
   ],
   "source": [
    "# Fitting the model with 9 variables\n",
    "Model_9var = sm.OLS(y_train, X_train_RFE_1).fit()   \n",
    "print(Model_9var.summary())"
   ]
  },
  {
   "cell_type": "code",
   "execution_count": 39,
   "metadata": {},
   "outputs": [
    {
     "data": {
      "text/html": [
       "<div>\n",
       "<style scoped>\n",
       "    .dataframe tbody tr th:only-of-type {\n",
       "        vertical-align: middle;\n",
       "    }\n",
       "\n",
       "    .dataframe tbody tr th {\n",
       "        vertical-align: top;\n",
       "    }\n",
       "\n",
       "    .dataframe thead th {\n",
       "        text-align: right;\n",
       "    }\n",
       "</style>\n",
       "<table border=\"1\" class=\"dataframe\">\n",
       "  <thead>\n",
       "    <tr style=\"text-align: right;\">\n",
       "      <th></th>\n",
       "      <th>Features</th>\n",
       "      <th>VIF</th>\n",
       "    </tr>\n",
       "  </thead>\n",
       "  <tbody>\n",
       "    <tr>\n",
       "      <th>2</th>\n",
       "      <td>temp</td>\n",
       "      <td>4.40</td>\n",
       "    </tr>\n",
       "    <tr>\n",
       "      <th>3</th>\n",
       "      <td>windspeed</td>\n",
       "      <td>3.98</td>\n",
       "    </tr>\n",
       "    <tr>\n",
       "      <th>0</th>\n",
       "      <td>yr</td>\n",
       "      <td>2.06</td>\n",
       "    </tr>\n",
       "    <tr>\n",
       "      <th>4</th>\n",
       "      <td>season_spring</td>\n",
       "      <td>1.61</td>\n",
       "    </tr>\n",
       "    <tr>\n",
       "      <th>5</th>\n",
       "      <td>season_winter</td>\n",
       "      <td>1.37</td>\n",
       "    </tr>\n",
       "    <tr>\n",
       "      <th>6</th>\n",
       "      <td>mnth_July</td>\n",
       "      <td>1.34</td>\n",
       "    </tr>\n",
       "    <tr>\n",
       "      <th>7</th>\n",
       "      <td>mnth_September</td>\n",
       "      <td>1.20</td>\n",
       "    </tr>\n",
       "    <tr>\n",
       "      <th>8</th>\n",
       "      <td>weathersit_misty_to_light_rain_snow</td>\n",
       "      <td>1.06</td>\n",
       "    </tr>\n",
       "    <tr>\n",
       "      <th>1</th>\n",
       "      <td>holiday</td>\n",
       "      <td>1.04</td>\n",
       "    </tr>\n",
       "  </tbody>\n",
       "</table>\n",
       "</div>"
      ],
      "text/plain": [
       "                              Features   VIF\n",
       "2                                 temp  4.40\n",
       "3                            windspeed  3.98\n",
       "0                                   yr  2.06\n",
       "4                        season_spring  1.61\n",
       "5                        season_winter  1.37\n",
       "6                            mnth_July  1.34\n",
       "7                       mnth_September  1.20\n",
       "8  weathersit_misty_to_light_rain_snow  1.06\n",
       "1                              holiday  1.04"
      ]
     },
     "execution_count": 39,
     "metadata": {},
     "output_type": "execute_result"
    }
   ],
   "source": [
    "RFE_1_features_1=X_train_RFE_1.drop('const',axis=1)\n",
    "vif = pd.DataFrame()\n",
    "vif['Features'] = RFE_1_features_1.columns\n",
    "vif['VIF'] = [variance_inflation_factor(RFE_1_features_1.values, i) for i in range(RFE_1_features_1.shape[1])]\n",
    "vif['VIF'] = round(vif['VIF'], 2)\n",
    "vif = vif.sort_values(by = \"VIF\", ascending = False)\n",
    "vif"
   ]
  },
  {
   "cell_type": "markdown",
   "metadata": {},
   "source": [
    "##### the above model has all the variables with p value less than 0.05 and vif less than 5 and it is also 80.1% accurate in prediction. hence it is a good model"
   ]
  },
  {
   "cell_type": "markdown",
   "metadata": {},
   "source": [
    "### STEP 8:  Rerun the model and then arrived at final model by evaluating basis adjusted R2 and F statistic"
   ]
  },
  {
   "cell_type": "markdown",
   "metadata": {},
   "source": [
    "##### Trying to reduce features further and checking the drop in accuracy level"
   ]
  },
  {
   "cell_type": "code",
   "execution_count": 40,
   "metadata": {},
   "outputs": [],
   "source": [
    "X_train_RFE_1=X_train_RFE_1.drop('const',axis=1)"
   ]
  },
  {
   "cell_type": "code",
   "execution_count": 41,
   "metadata": {},
   "outputs": [
    {
     "data": {
      "text/plain": [
       "RFE(estimator=LinearRegression(), n_features_to_select=5)"
      ]
     },
     "execution_count": 41,
     "metadata": {},
     "output_type": "execute_result"
    },
    {
     "name": "stdout",
     "output_type": "stream",
     "text": [
      "[ True False  True  True  True False False False  True]\n",
      "[1 2 1 1 1 4 3 5 1]\n"
     ]
    }
   ],
   "source": [
    "# RFE with 5 features\n",
    "LR = LinearRegression()\n",
    "RFE_3 = RFE(LR, 5)\n",
    "# Fit with 5 features\n",
    "RFE_3.fit(X_train_RFE_1, y_train)\n",
    "\n",
    "print(RFE_3.support_)           \n",
    "print(RFE_3.ranking_) "
   ]
  },
  {
   "cell_type": "code",
   "execution_count": 42,
   "metadata": {},
   "outputs": [
    {
     "data": {
      "text/html": [
       "<div>\n",
       "<style scoped>\n",
       "    .dataframe tbody tr th:only-of-type {\n",
       "        vertical-align: middle;\n",
       "    }\n",
       "\n",
       "    .dataframe tbody tr th {\n",
       "        vertical-align: top;\n",
       "    }\n",
       "\n",
       "    .dataframe thead th {\n",
       "        text-align: right;\n",
       "    }\n",
       "</style>\n",
       "<table border=\"1\" class=\"dataframe\">\n",
       "  <thead>\n",
       "    <tr style=\"text-align: right;\">\n",
       "      <th></th>\n",
       "      <th>const</th>\n",
       "      <th>yr</th>\n",
       "      <th>temp</th>\n",
       "      <th>windspeed</th>\n",
       "      <th>season_spring</th>\n",
       "      <th>weathersit_misty_to_light_rain_snow</th>\n",
       "    </tr>\n",
       "  </thead>\n",
       "  <tbody>\n",
       "    <tr>\n",
       "      <th>653</th>\n",
       "      <td>1.0</td>\n",
       "      <td>1</td>\n",
       "      <td>0.509887</td>\n",
       "      <td>0.300794</td>\n",
       "      <td>0</td>\n",
       "      <td>0</td>\n",
       "    </tr>\n",
       "    <tr>\n",
       "      <th>576</th>\n",
       "      <td>1.0</td>\n",
       "      <td>1</td>\n",
       "      <td>0.815169</td>\n",
       "      <td>0.264686</td>\n",
       "      <td>0</td>\n",
       "      <td>0</td>\n",
       "    </tr>\n",
       "    <tr>\n",
       "      <th>426</th>\n",
       "      <td>1.0</td>\n",
       "      <td>1</td>\n",
       "      <td>0.442393</td>\n",
       "      <td>0.255342</td>\n",
       "      <td>1</td>\n",
       "      <td>0</td>\n",
       "    </tr>\n",
       "    <tr>\n",
       "      <th>728</th>\n",
       "      <td>1.0</td>\n",
       "      <td>1</td>\n",
       "      <td>0.245101</td>\n",
       "      <td>0.663106</td>\n",
       "      <td>1</td>\n",
       "      <td>0</td>\n",
       "    </tr>\n",
       "    <tr>\n",
       "      <th>482</th>\n",
       "      <td>1.0</td>\n",
       "      <td>1</td>\n",
       "      <td>0.395666</td>\n",
       "      <td>0.188475</td>\n",
       "      <td>0</td>\n",
       "      <td>0</td>\n",
       "    </tr>\n",
       "  </tbody>\n",
       "</table>\n",
       "</div>"
      ],
      "text/plain": [
       "     const  yr      temp  windspeed  season_spring  \\\n",
       "653    1.0   1  0.509887   0.300794              0   \n",
       "576    1.0   1  0.815169   0.264686              0   \n",
       "426    1.0   1  0.442393   0.255342              1   \n",
       "728    1.0   1  0.245101   0.663106              1   \n",
       "482    1.0   1  0.395666   0.188475              0   \n",
       "\n",
       "     weathersit_misty_to_light_rain_snow  \n",
       "653                                    0  \n",
       "576                                    0  \n",
       "426                                    0  \n",
       "728                                    0  \n",
       "482                                    0  "
      ]
     },
     "execution_count": 42,
     "metadata": {},
     "output_type": "execute_result"
    }
   ],
   "source": [
    "##### RFE_2\n",
    "# Subset the features selected by RFE_2\n",
    "Col_RFE_3 = X_train_RFE_1.columns[RFE_3.support_]\n",
    "\n",
    "# Subsetting training data for 15 selected columns\n",
    "X_train_RFE_3 = X_train_RFE_1[Col_RFE_3]\n",
    "\n",
    "# Add a constant to the model\n",
    "X_train_RFE_3 = sm.add_constant(X_train_RFE_3)\n",
    "X_train_RFE_3.head()"
   ]
  },
  {
   "cell_type": "code",
   "execution_count": 43,
   "metadata": {},
   "outputs": [
    {
     "name": "stdout",
     "output_type": "stream",
     "text": [
      "                            OLS Regression Results                            \n",
      "==============================================================================\n",
      "Dep. Variable:                    cnt   R-squared:                       0.787\n",
      "Model:                            OLS   Adj. R-squared:                  0.785\n",
      "Method:                 Least Squares   F-statistic:                     373.4\n",
      "Date:                Wed, 15 Dec 2021   Prob (F-statistic):          7.31e-167\n",
      "Time:                        15:14:53   Log-Likelihood:                 433.36\n",
      "No. Observations:                 510   AIC:                            -854.7\n",
      "Df Residuals:                     504   BIC:                            -829.3\n",
      "Df Model:                           5                                         \n",
      "Covariance Type:            nonrobust                                         \n",
      "=======================================================================================================\n",
      "                                          coef    std err          t      P>|t|      [0.025      0.975]\n",
      "-------------------------------------------------------------------------------------------------------\n",
      "const                                   0.2772      0.020     14.073      0.000       0.238       0.316\n",
      "yr                                      0.2371      0.009     25.519      0.000       0.219       0.255\n",
      "temp                                    0.3857      0.026     14.831      0.000       0.335       0.437\n",
      "windspeed                              -0.1502      0.028     -5.390      0.000      -0.205      -0.095\n",
      "season_spring                          -0.1476      0.014    -10.842      0.000      -0.174      -0.121\n",
      "weathersit_misty_to_light_rain_snow    -0.2433      0.028     -8.834      0.000      -0.297      -0.189\n",
      "==============================================================================\n",
      "Omnibus:                       52.857   Durbin-Watson:                   1.934\n",
      "Prob(Omnibus):                  0.000   Jarque-Bera (JB):               97.345\n",
      "Skew:                          -0.635   Prob(JB):                     7.28e-22\n",
      "Kurtosis:                       4.723   Cond. No.                         9.84\n",
      "==============================================================================\n",
      "\n",
      "Notes:\n",
      "[1] Standard Errors assume that the covariance matrix of the errors is correctly specified.\n"
     ]
    }
   ],
   "source": [
    "# Fitting the model with 9 variables\n",
    "Model_5var = sm.OLS(y_train, X_train_RFE_3).fit()   \n",
    "print(Model_5var.summary())"
   ]
  },
  {
   "cell_type": "code",
   "execution_count": 44,
   "metadata": {},
   "outputs": [
    {
     "data": {
      "text/html": [
       "<div>\n",
       "<style scoped>\n",
       "    .dataframe tbody tr th:only-of-type {\n",
       "        vertical-align: middle;\n",
       "    }\n",
       "\n",
       "    .dataframe tbody tr th {\n",
       "        vertical-align: top;\n",
       "    }\n",
       "\n",
       "    .dataframe thead th {\n",
       "        text-align: right;\n",
       "    }\n",
       "</style>\n",
       "<table border=\"1\" class=\"dataframe\">\n",
       "  <thead>\n",
       "    <tr style=\"text-align: right;\">\n",
       "      <th></th>\n",
       "      <th>Features</th>\n",
       "      <th>VIF</th>\n",
       "    </tr>\n",
       "  </thead>\n",
       "  <tbody>\n",
       "    <tr>\n",
       "      <th>2</th>\n",
       "      <td>windspeed</td>\n",
       "      <td>3.63</td>\n",
       "    </tr>\n",
       "    <tr>\n",
       "      <th>1</th>\n",
       "      <td>temp</td>\n",
       "      <td>3.37</td>\n",
       "    </tr>\n",
       "    <tr>\n",
       "      <th>0</th>\n",
       "      <td>yr</td>\n",
       "      <td>2.02</td>\n",
       "    </tr>\n",
       "    <tr>\n",
       "      <th>3</th>\n",
       "      <td>season_spring</td>\n",
       "      <td>1.49</td>\n",
       "    </tr>\n",
       "    <tr>\n",
       "      <th>4</th>\n",
       "      <td>weathersit_misty_to_light_rain_snow</td>\n",
       "      <td>1.04</td>\n",
       "    </tr>\n",
       "  </tbody>\n",
       "</table>\n",
       "</div>"
      ],
      "text/plain": [
       "                              Features   VIF\n",
       "2                            windspeed  3.63\n",
       "1                                 temp  3.37\n",
       "0                                   yr  2.02\n",
       "3                        season_spring  1.49\n",
       "4  weathersit_misty_to_light_rain_snow  1.04"
      ]
     },
     "execution_count": 44,
     "metadata": {},
     "output_type": "execute_result"
    }
   ],
   "source": [
    "RFE_3_features_1=X_train_RFE_3.drop('const',axis=1)\n",
    "vif = pd.DataFrame()\n",
    "vif['Features'] = RFE_3_features_1.columns\n",
    "vif['VIF'] = [variance_inflation_factor(RFE_3_features_1.values, i) for i in range(RFE_3_features_1.shape[1])]\n",
    "vif['VIF'] = round(vif['VIF'], 2)\n",
    "vif = vif.sort_values(by = \"VIF\", ascending = False)\n",
    "vif"
   ]
  },
  {
   "cell_type": "markdown",
   "metadata": {},
   "source": [
    "hence above model is the best model because even after dropping 4 variables, accuracy is still at 78.5% and all the variables are significant"
   ]
  },
  {
   "cell_type": "markdown",
   "metadata": {},
   "source": [
    "### STEP 9:  Residual analysis to see the distribution of error term and observe homoskedasticity as well. Ensuring assumptions of linear regression model is holding"
   ]
  },
  {
   "cell_type": "code",
   "execution_count": 45,
   "metadata": {},
   "outputs": [],
   "source": [
    "y_train_cnt = Model_5var.predict(X_train_RFE_3)"
   ]
  },
  {
   "cell_type": "markdown",
   "metadata": {},
   "source": [
    "##### Plotting the histogram for error term"
   ]
  },
  {
   "cell_type": "code",
   "execution_count": 46,
   "metadata": {},
   "outputs": [
    {
     "data": {
      "text/plain": [
       "<AxesSubplot:ylabel='Density'>"
      ]
     },
     "execution_count": 46,
     "metadata": {},
     "output_type": "execute_result"
    },
    {
     "data": {
      "text/plain": [
       "Text(0.5, 0.98, 'Error Terms')"
      ]
     },
     "execution_count": 46,
     "metadata": {},
     "output_type": "execute_result"
    },
    {
     "data": {
      "text/plain": [
       "Text(0.5, 0, 'Errors')"
      ]
     },
     "execution_count": 46,
     "metadata": {},
     "output_type": "execute_result"
    },
    {
     "data": {
      "image/png": "[encoded data removed]",
      "text/plain": [
       "<Figure size 432x288 with 1 Axes>"
      ]
     },
     "metadata": {
      "needs_background": "light"
     },
     "output_type": "display_data"
    }
   ],
   "source": [
    "fig = plt.figure()\n",
    "sns.distplot((y_train - y_train_cnt), bins = 30)\n",
    "fig.suptitle('Error Terms', fontsize = 20)    \n",
    "plt.xlabel('Errors', fontsize = 15)                         "
   ]
  },
  {
   "cell_type": "markdown",
   "metadata": {},
   "source": [
    "the error term is normally distributed an assumption is holding. hence we can go ahead with our model"
   ]
  },
  {
   "cell_type": "markdown",
   "metadata": {},
   "source": [
    "### STEP 10: Deciding and concluding final model and observing its performance in test set as well to finalise."
   ]
  },
  {
   "cell_type": "markdown",
   "metadata": {},
   "source": [
    "Scaling the test set"
   ]
  },
  {
   "cell_type": "code",
   "execution_count": 47,
   "metadata": {},
   "outputs": [
    {
     "data": {
      "text/html": [
       "<div>\n",
       "<style scoped>\n",
       "    .dataframe tbody tr th:only-of-type {\n",
       "        vertical-align: middle;\n",
       "    }\n",
       "\n",
       "    .dataframe tbody tr th {\n",
       "        vertical-align: top;\n",
       "    }\n",
       "\n",
       "    .dataframe thead th {\n",
       "        text-align: right;\n",
       "    }\n",
       "</style>\n",
       "<table border=\"1\" class=\"dataframe\">\n",
       "  <thead>\n",
       "    <tr style=\"text-align: right;\">\n",
       "      <th></th>\n",
       "      <th>const</th>\n",
       "      <th>yr</th>\n",
       "      <th>temp</th>\n",
       "      <th>windspeed</th>\n",
       "      <th>season_spring</th>\n",
       "      <th>weathersit_misty_to_light_rain_snow</th>\n",
       "    </tr>\n",
       "  </thead>\n",
       "  <tbody>\n",
       "    <tr>\n",
       "      <th>653</th>\n",
       "      <td>1.0</td>\n",
       "      <td>1</td>\n",
       "      <td>0.509887</td>\n",
       "      <td>0.300794</td>\n",
       "      <td>0</td>\n",
       "      <td>0</td>\n",
       "    </tr>\n",
       "    <tr>\n",
       "      <th>576</th>\n",
       "      <td>1.0</td>\n",
       "      <td>1</td>\n",
       "      <td>0.815169</td>\n",
       "      <td>0.264686</td>\n",
       "      <td>0</td>\n",
       "      <td>0</td>\n",
       "    </tr>\n",
       "    <tr>\n",
       "      <th>426</th>\n",
       "      <td>1.0</td>\n",
       "      <td>1</td>\n",
       "      <td>0.442393</td>\n",
       "      <td>0.255342</td>\n",
       "      <td>1</td>\n",
       "      <td>0</td>\n",
       "    </tr>\n",
       "    <tr>\n",
       "      <th>728</th>\n",
       "      <td>1.0</td>\n",
       "      <td>1</td>\n",
       "      <td>0.245101</td>\n",
       "      <td>0.663106</td>\n",
       "      <td>1</td>\n",
       "      <td>0</td>\n",
       "    </tr>\n",
       "    <tr>\n",
       "      <th>482</th>\n",
       "      <td>1.0</td>\n",
       "      <td>1</td>\n",
       "      <td>0.395666</td>\n",
       "      <td>0.188475</td>\n",
       "      <td>0</td>\n",
       "      <td>0</td>\n",
       "    </tr>\n",
       "    <tr>\n",
       "      <th>...</th>\n",
       "      <td>...</td>\n",
       "      <td>...</td>\n",
       "      <td>...</td>\n",
       "      <td>...</td>\n",
       "      <td>...</td>\n",
       "      <td>...</td>\n",
       "    </tr>\n",
       "    <tr>\n",
       "      <th>526</th>\n",
       "      <td>1.0</td>\n",
       "      <td>1</td>\n",
       "      <td>0.824514</td>\n",
       "      <td>0.355596</td>\n",
       "      <td>0</td>\n",
       "      <td>0</td>\n",
       "    </tr>\n",
       "    <tr>\n",
       "      <th>578</th>\n",
       "      <td>1.0</td>\n",
       "      <td>1</td>\n",
       "      <td>0.863973</td>\n",
       "      <td>0.187140</td>\n",
       "      <td>0</td>\n",
       "      <td>0</td>\n",
       "    </tr>\n",
       "    <tr>\n",
       "      <th>53</th>\n",
       "      <td>1.0</td>\n",
       "      <td>0</td>\n",
       "      <td>0.202618</td>\n",
       "      <td>0.111379</td>\n",
       "      <td>1</td>\n",
       "      <td>0</td>\n",
       "    </tr>\n",
       "    <tr>\n",
       "      <th>350</th>\n",
       "      <td>1.0</td>\n",
       "      <td>0</td>\n",
       "      <td>0.248216</td>\n",
       "      <td>0.431816</td>\n",
       "      <td>0</td>\n",
       "      <td>0</td>\n",
       "    </tr>\n",
       "    <tr>\n",
       "      <th>79</th>\n",
       "      <td>1.0</td>\n",
       "      <td>0</td>\n",
       "      <td>0.462664</td>\n",
       "      <td>0.529881</td>\n",
       "      <td>0</td>\n",
       "      <td>0</td>\n",
       "    </tr>\n",
       "  </tbody>\n",
       "</table>\n",
       "<p>510 rows × 6 columns</p>\n",
       "</div>"
      ],
      "text/plain": [
       "     const  yr      temp  windspeed  season_spring  \\\n",
       "653    1.0   1  0.509887   0.300794              0   \n",
       "576    1.0   1  0.815169   0.264686              0   \n",
       "426    1.0   1  0.442393   0.255342              1   \n",
       "728    1.0   1  0.245101   0.663106              1   \n",
       "482    1.0   1  0.395666   0.188475              0   \n",
       "..     ...  ..       ...        ...            ...   \n",
       "526    1.0   1  0.824514   0.355596              0   \n",
       "578    1.0   1  0.863973   0.187140              0   \n",
       "53     1.0   0  0.202618   0.111379              1   \n",
       "350    1.0   0  0.248216   0.431816              0   \n",
       "79     1.0   0  0.462664   0.529881              0   \n",
       "\n",
       "     weathersit_misty_to_light_rain_snow  \n",
       "653                                    0  \n",
       "576                                    0  \n",
       "426                                    0  \n",
       "728                                    0  \n",
       "482                                    0  \n",
       "..                                   ...  \n",
       "526                                    0  \n",
       "578                                    0  \n",
       "53                                     0  \n",
       "350                                    0  \n",
       "79                                     0  \n",
       "\n",
       "[510 rows x 6 columns]"
      ]
     },
     "execution_count": 47,
     "metadata": {},
     "output_type": "execute_result"
    }
   ],
   "source": [
    "X_train_RFE_3"
   ]
  },
  {
   "cell_type": "code",
   "execution_count": 48,
   "metadata": {},
   "outputs": [],
   "source": [
    "num_var = ['cnt','temp','hum','windspeed']\n",
    "Data_final_test[num_var] = scaler.transform(Data_final_test[num_var])\n",
    "y_test = Data_final_test.pop('cnt')\n",
    "X_test = Data_final_test"
   ]
  },
  {
   "cell_type": "code",
   "execution_count": 49,
   "metadata": {},
   "outputs": [
    {
     "data": {
      "text/html": [
       "<div>\n",
       "<style scoped>\n",
       "    .dataframe tbody tr th:only-of-type {\n",
       "        vertical-align: middle;\n",
       "    }\n",
       "\n",
       "    .dataframe tbody tr th {\n",
       "        vertical-align: top;\n",
       "    }\n",
       "\n",
       "    .dataframe thead th {\n",
       "        text-align: right;\n",
       "    }\n",
       "</style>\n",
       "<table border=\"1\" class=\"dataframe\">\n",
       "  <thead>\n",
       "    <tr style=\"text-align: right;\">\n",
       "      <th></th>\n",
       "      <th>yr</th>\n",
       "      <th>temp</th>\n",
       "      <th>windspeed</th>\n",
       "      <th>season_spring</th>\n",
       "      <th>weathersit_misty_to_light_rain_snow</th>\n",
       "    </tr>\n",
       "  </thead>\n",
       "  <tbody>\n",
       "    <tr>\n",
       "      <th>184</th>\n",
       "      <td>0</td>\n",
       "      <td>0.831783</td>\n",
       "      <td>0.084219</td>\n",
       "      <td>0</td>\n",
       "      <td>0</td>\n",
       "    </tr>\n",
       "    <tr>\n",
       "      <th>535</th>\n",
       "      <td>1</td>\n",
       "      <td>0.901354</td>\n",
       "      <td>0.153728</td>\n",
       "      <td>0</td>\n",
       "      <td>0</td>\n",
       "    </tr>\n",
       "    <tr>\n",
       "      <th>299</th>\n",
       "      <td>0</td>\n",
       "      <td>0.511964</td>\n",
       "      <td>0.334206</td>\n",
       "      <td>0</td>\n",
       "      <td>0</td>\n",
       "    </tr>\n",
       "    <tr>\n",
       "      <th>221</th>\n",
       "      <td>0</td>\n",
       "      <td>0.881625</td>\n",
       "      <td>0.339570</td>\n",
       "      <td>0</td>\n",
       "      <td>0</td>\n",
       "    </tr>\n",
       "    <tr>\n",
       "      <th>152</th>\n",
       "      <td>0</td>\n",
       "      <td>0.817246</td>\n",
       "      <td>0.537414</td>\n",
       "      <td>0</td>\n",
       "      <td>0</td>\n",
       "    </tr>\n",
       "    <tr>\n",
       "      <th>...</th>\n",
       "      <td>...</td>\n",
       "      <td>...</td>\n",
       "      <td>...</td>\n",
       "      <td>...</td>\n",
       "      <td>...</td>\n",
       "    </tr>\n",
       "    <tr>\n",
       "      <th>400</th>\n",
       "      <td>1</td>\n",
       "      <td>0.257562</td>\n",
       "      <td>0.287411</td>\n",
       "      <td>1</td>\n",
       "      <td>0</td>\n",
       "    </tr>\n",
       "    <tr>\n",
       "      <th>702</th>\n",
       "      <td>1</td>\n",
       "      <td>0.519232</td>\n",
       "      <td>0.283397</td>\n",
       "      <td>0</td>\n",
       "      <td>0</td>\n",
       "    </tr>\n",
       "    <tr>\n",
       "      <th>127</th>\n",
       "      <td>0</td>\n",
       "      <td>0.584649</td>\n",
       "      <td>0.069510</td>\n",
       "      <td>0</td>\n",
       "      <td>0</td>\n",
       "    </tr>\n",
       "    <tr>\n",
       "      <th>640</th>\n",
       "      <td>1</td>\n",
       "      <td>0.745598</td>\n",
       "      <td>0.052115</td>\n",
       "      <td>0</td>\n",
       "      <td>0</td>\n",
       "    </tr>\n",
       "    <tr>\n",
       "      <th>72</th>\n",
       "      <td>0</td>\n",
       "      <td>0.331557</td>\n",
       "      <td>0.203418</td>\n",
       "      <td>1</td>\n",
       "      <td>0</td>\n",
       "    </tr>\n",
       "  </tbody>\n",
       "</table>\n",
       "<p>219 rows × 5 columns</p>\n",
       "</div>"
      ],
      "text/plain": [
       "     yr      temp  windspeed  season_spring  \\\n",
       "184   0  0.831783   0.084219              0   \n",
       "535   1  0.901354   0.153728              0   \n",
       "299   0  0.511964   0.334206              0   \n",
       "221   0  0.881625   0.339570              0   \n",
       "152   0  0.817246   0.537414              0   \n",
       "..   ..       ...        ...            ...   \n",
       "400   1  0.257562   0.287411              1   \n",
       "702   1  0.519232   0.283397              0   \n",
       "127   0  0.584649   0.069510              0   \n",
       "640   1  0.745598   0.052115              0   \n",
       "72    0  0.331557   0.203418              1   \n",
       "\n",
       "     weathersit_misty_to_light_rain_snow  \n",
       "184                                    0  \n",
       "535                                    0  \n",
       "299                                    0  \n",
       "221                                    0  \n",
       "152                                    0  \n",
       "..                                   ...  \n",
       "400                                    0  \n",
       "702                                    0  \n",
       "127                                    0  \n",
       "640                                    0  \n",
       "72                                     0  \n",
       "\n",
       "[219 rows x 5 columns]"
      ]
     },
     "execution_count": 49,
     "metadata": {},
     "output_type": "execute_result"
    }
   ],
   "source": [
    "X_test_RFE_3 = X_test[RFE_3_features_1.columns]\n",
    "X_test_RFE_3"
   ]
  },
  {
   "cell_type": "code",
   "execution_count": 50,
   "metadata": {},
   "outputs": [
    {
     "name": "stdout",
     "output_type": "stream",
     "text": [
      "<class 'pandas.core.frame.DataFrame'>\n",
      "Int64Index: 219 entries, 184 to 72\n",
      "Data columns (total 6 columns):\n",
      " #   Column                               Non-Null Count  Dtype  \n",
      "---  ------                               --------------  -----  \n",
      " 0   const                                219 non-null    float64\n",
      " 1   yr                                   219 non-null    int64  \n",
      " 2   temp                                 219 non-null    float64\n",
      " 3   windspeed                            219 non-null    float64\n",
      " 4   season_spring                        219 non-null    uint8  \n",
      " 5   weathersit_misty_to_light_rain_snow  219 non-null    uint8  \n",
      "dtypes: float64(3), int64(1), uint8(2)\n",
      "memory usage: 9.0 KB\n"
     ]
    }
   ],
   "source": [
    "### adding the constant like training set\n",
    "X_test_RFE_3 = sm.add_constant(X_test_RFE_3)\n",
    "X_test_RFE_3.info()"
   ]
  },
  {
   "cell_type": "code",
   "execution_count": 51,
   "metadata": {},
   "outputs": [
    {
     "data": {
      "text/html": [
       "<div>\n",
       "<style scoped>\n",
       "    .dataframe tbody tr th:only-of-type {\n",
       "        vertical-align: middle;\n",
       "    }\n",
       "\n",
       "    .dataframe tbody tr th {\n",
       "        vertical-align: top;\n",
       "    }\n",
       "\n",
       "    .dataframe thead th {\n",
       "        text-align: right;\n",
       "    }\n",
       "</style>\n",
       "<table border=\"1\" class=\"dataframe\">\n",
       "  <thead>\n",
       "    <tr style=\"text-align: right;\">\n",
       "      <th></th>\n",
       "      <th>const</th>\n",
       "      <th>yr</th>\n",
       "      <th>temp</th>\n",
       "      <th>windspeed</th>\n",
       "      <th>season_spring</th>\n",
       "      <th>weathersit_misty_to_light_rain_snow</th>\n",
       "    </tr>\n",
       "  </thead>\n",
       "  <tbody>\n",
       "    <tr>\n",
       "      <th>184</th>\n",
       "      <td>1.0</td>\n",
       "      <td>0</td>\n",
       "      <td>0.831783</td>\n",
       "      <td>0.084219</td>\n",
       "      <td>0</td>\n",
       "      <td>0</td>\n",
       "    </tr>\n",
       "    <tr>\n",
       "      <th>535</th>\n",
       "      <td>1.0</td>\n",
       "      <td>1</td>\n",
       "      <td>0.901354</td>\n",
       "      <td>0.153728</td>\n",
       "      <td>0</td>\n",
       "      <td>0</td>\n",
       "    </tr>\n",
       "    <tr>\n",
       "      <th>299</th>\n",
       "      <td>1.0</td>\n",
       "      <td>0</td>\n",
       "      <td>0.511964</td>\n",
       "      <td>0.334206</td>\n",
       "      <td>0</td>\n",
       "      <td>0</td>\n",
       "    </tr>\n",
       "    <tr>\n",
       "      <th>221</th>\n",
       "      <td>1.0</td>\n",
       "      <td>0</td>\n",
       "      <td>0.881625</td>\n",
       "      <td>0.339570</td>\n",
       "      <td>0</td>\n",
       "      <td>0</td>\n",
       "    </tr>\n",
       "    <tr>\n",
       "      <th>152</th>\n",
       "      <td>1.0</td>\n",
       "      <td>0</td>\n",
       "      <td>0.817246</td>\n",
       "      <td>0.537414</td>\n",
       "      <td>0</td>\n",
       "      <td>0</td>\n",
       "    </tr>\n",
       "  </tbody>\n",
       "</table>\n",
       "</div>"
      ],
      "text/plain": [
       "     const  yr      temp  windspeed  season_spring  \\\n",
       "184    1.0   0  0.831783   0.084219              0   \n",
       "535    1.0   1  0.901354   0.153728              0   \n",
       "299    1.0   0  0.511964   0.334206              0   \n",
       "221    1.0   0  0.881625   0.339570              0   \n",
       "152    1.0   0  0.817246   0.537414              0   \n",
       "\n",
       "     weathersit_misty_to_light_rain_snow  \n",
       "184                                    0  \n",
       "535                                    0  \n",
       "299                                    0  \n",
       "221                                    0  \n",
       "152                                    0  "
      ]
     },
     "execution_count": 51,
     "metadata": {},
     "output_type": "execute_result"
    }
   ],
   "source": [
    "X_test_RFE_3.head()"
   ]
  },
  {
   "cell_type": "markdown",
   "metadata": {},
   "source": [
    "##### making the prediction on test set"
   ]
  },
  {
   "cell_type": "code",
   "execution_count": 52,
   "metadata": {},
   "outputs": [
    {
     "data": {
      "text/plain": [
       "<matplotlib.collections.PathCollection at 0x7fe8f9fff2d0>"
      ]
     },
     "execution_count": 52,
     "metadata": {},
     "output_type": "execute_result"
    },
    {
     "data": {
      "image/png": "[encoded data removed]",
      "text/plain": [
       "<Figure size 432x288 with 1 Axes>"
      ]
     },
     "metadata": {
      "needs_background": "light"
     },
     "output_type": "display_data"
    },
    {
     "data": {
      "text/plain": [
       "0.775065208538001"
      ]
     },
     "execution_count": 52,
     "metadata": {},
     "output_type": "execute_result"
    }
   ],
   "source": [
    "y_pred = Model_5var.predict(X_test_RFE_3)\n",
    "fig = plt.figure()\n",
    "plt.scatter(y_test, y_pred)\n",
    "plt.show()\n",
    "r2_score(y_test, y_pred)"
   ]
  },
  {
   "cell_type": "markdown",
   "metadata": {},
   "source": [
    "From the above plot, it is proved that the model is performing well in test set. Also R2 in test set is 77.5% where as in the training data set it is 78.7%. So they are very close"
   ]
  },
  {
   "cell_type": "markdown",
   "metadata": {},
   "source": [
    "# This is the final model for predicting count of daily bike rentals"
   ]
  }
 ],
 "metadata": {
  "kernelspec": {
   "display_name": "Python 3",
   "language": "python",
   "name": "python3"
  },
  "language_info": {
   "codemirror_mode": {
    "name": "ipython",
    "version": 3
   },
   "file_extension": ".py",
   "mimetype": "text/x-python",
   "name": "python",
   "nbconvert_exporter": "python",
   "pygments_lexer": "ipython3",
   "version": "3.7.7"
  }
 },
 "nbformat": 4,
 "nbformat_minor": 4
}
